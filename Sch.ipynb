{
 "cells": [
  {
   "cell_type": "markdown",
   "id": "432a4251-6b24-44b8-b59c-48dbf3472d26",
   "metadata": {},
   "source": [
    "# Schwarzschild spacetime\n",
    "## Jesús Borrás"
   ]
  },
  {
   "cell_type": "code",
   "execution_count": 1,
   "id": "c5261446-5cab-4f0a-a7f6-0858814f827d",
   "metadata": {
    "tags": []
   },
   "outputs": [],
   "source": [
    "from sympy import *"
   ]
  },
  {
   "cell_type": "code",
   "execution_count": 2,
   "id": "74543a2a-c871-4676-8d97-8ecb55609394",
   "metadata": {
    "tags": []
   },
   "outputs": [
    {
     "data": {
      "text/latex": [
       "$\\displaystyle \\left[\\begin{matrix}\\frac{2 M}{r} - 1 & 0 & 0 & 0\\\\0 & \\frac{r}{- 2 M + r} & 0 & 0\\\\0 & 0 & r^{2} & 0\\\\0 & 0 & 0 & r^{2} \\sin^{2}{\\left(\\theta \\right)}\\end{matrix}\\right]$"
      ],
      "text/plain": [
       "Matrix([\n",
       "[2*M/r - 1,            0,    0,                  0],\n",
       "[        0, r/(-2*M + r),    0,                  0],\n",
       "[        0,            0, r**2,                  0],\n",
       "[        0,            0,    0, r**2*sin(theta)**2]])"
      ]
     },
     "execution_count": 2,
     "metadata": {},
     "output_type": "execute_result"
    }
   ],
   "source": [
    "t, r, th, ph, M = symbols('t r theta varphi M')\n",
    "coor = [t,r,th,ph]\n",
    "g = diag(-(1-2*M/r),r/(r-2*M),r**2,sin(th)**2*r**2)\n",
    "gi = g.inv()\n",
    "g"
   ]
  },
  {
   "cell_type": "markdown",
   "id": "5c7ffa1e-993f-4142-9f4e-ac7e22b83388",
   "metadata": {},
   "source": [
    "## Christoffel symbols"
   ]
  },
  {
   "cell_type": "code",
   "execution_count": 3,
   "id": "8fda0061-2026-48c6-a10e-e125f2ec42ae",
   "metadata": {
    "tags": []
   },
   "outputs": [],
   "source": [
    "def christcoef(g,gi,i,j,k):\n",
    "    G = 0\n",
    "    for l in range(4):\n",
    "        G += .5*gi[i,l]*(dg(g,l,j,k)+ dg(g,l,k,j)- dg(g,j,k,l))\n",
    "    return G"
   ]
  },
  {
   "cell_type": "code",
   "execution_count": 4,
   "id": "c8d2610b-3105-4c6d-bdd6-72e63cca88e2",
   "metadata": {
    "tags": []
   },
   "outputs": [],
   "source": [
    "def dg(g,i,j,k):\n",
    "    return diff(g[i,j],coor[k])"
   ]
  },
  {
   "cell_type": "code",
   "execution_count": 5,
   "id": "fe981eff-10ae-4a11-844a-15914f7f9407",
   "metadata": {
    "tags": []
   },
   "outputs": [],
   "source": [
    "def display2(res,i,j,k):\n",
    "    ii = coor[i]\n",
    "    jj = coor[j]\n",
    "    kk = coor[k]\n",
    "    display(Eq(Symbol(r'\\Gamma^{%s}_{%s %s}' % (latex(ii), latex(jj), latex(kk))), res))"
   ]
  },
  {
   "cell_type": "code",
   "execution_count": 6,
   "id": "0ff387f6-0b39-4918-be24-d335f8706be1",
   "metadata": {
    "tags": []
   },
   "outputs": [],
   "source": [
    "def displayless(res,i,j,k):\n",
    "    if j == 0:\n",
    "        display2(res,i,j,k)\n",
    "    if j == 1:\n",
    "        if k == 0: None\n",
    "        else: display2(res,i,j,k)\n",
    "    if j == 2:\n",
    "        if k == 0 or k == 1: None\n",
    "        else: display2(res,i,j,k)\n",
    "    if j == 3:\n",
    "        if k == 0 or k == 1 or k == 2: None\n",
    "        else: display2(res,i,j,k)"
   ]
  },
  {
   "cell_type": "code",
   "execution_count": 7,
   "id": "c0bc0a00-e8dd-4f86-bc54-ddbffbe28951",
   "metadata": {
    "tags": []
   },
   "outputs": [
    {
     "data": {
      "text/latex": [
       "$\\displaystyle \\Gamma^{t}_{t r} = - \\frac{1.0 M}{r \\left(2 M - r\\right)}$"
      ],
      "text/plain": [
       "Eq(\\Gamma^{t}_{t r}, -1.0*M/(r*(2*M - r)))"
      ]
     },
     "metadata": {},
     "output_type": "display_data"
    },
    {
     "data": {
      "text/latex": [
       "$\\displaystyle \\Gamma^{r}_{t t} = \\frac{1.0 M \\left(- 2.0 M + 1.0 r\\right)}{r^{3}}$"
      ],
      "text/plain": [
       "Eq(\\Gamma^{r}_{t t}, 1.0*M*(-2.0*M + 1.0*r)/r**3)"
      ]
     },
     "metadata": {},
     "output_type": "display_data"
    },
    {
     "data": {
      "text/latex": [
       "$\\displaystyle \\Gamma^{r}_{r r} = \\frac{1.0 M}{r \\left(2.0 M - 1.0 r\\right)}$"
      ],
      "text/plain": [
       "Eq(\\Gamma^{r}_{r r}, 1.0*M/(r*(2.0*M - 1.0*r)))"
      ]
     },
     "metadata": {},
     "output_type": "display_data"
    },
    {
     "data": {
      "text/latex": [
       "$\\displaystyle \\Gamma^{r}_{\\theta \\theta} = 2.0 M - 1.0 r$"
      ],
      "text/plain": [
       "Eq(\\Gamma^{r}_{\\theta \\theta}, 2.0*M - 1.0*r)"
      ]
     },
     "metadata": {},
     "output_type": "display_data"
    },
    {
     "data": {
      "text/latex": [
       "$\\displaystyle \\Gamma^{r}_{\\varphi \\varphi} = \\left(2.0 M - 1.0 r\\right) \\sin^{2}{\\left(\\theta \\right)}$"
      ],
      "text/plain": [
       "Eq(\\Gamma^{r}_{\\varphi \\varphi}, (2.0*M - 1.0*r)*sin(theta)**2)"
      ]
     },
     "metadata": {},
     "output_type": "display_data"
    },
    {
     "data": {
      "text/latex": [
       "$\\displaystyle \\Gamma^{\\theta}_{r \\theta} = \\frac{1.0}{r}$"
      ],
      "text/plain": [
       "Eq(\\Gamma^{\\theta}_{r \\theta}, 1.0/r)"
      ]
     },
     "metadata": {},
     "output_type": "display_data"
    },
    {
     "data": {
      "text/latex": [
       "$\\displaystyle \\Gamma^{\\theta}_{\\varphi \\varphi} = - 0.5 \\sin{\\left(2 \\theta \\right)}$"
      ],
      "text/plain": [
       "Eq(\\Gamma^{\\theta}_{\\varphi \\varphi}, -0.5*sin(2*theta))"
      ]
     },
     "metadata": {},
     "output_type": "display_data"
    },
    {
     "data": {
      "text/latex": [
       "$\\displaystyle \\Gamma^{\\varphi}_{r \\varphi} = \\frac{1.0}{r}$"
      ],
      "text/plain": [
       "Eq(\\Gamma^{\\varphi}_{r \\varphi}, 1.0/r)"
      ]
     },
     "metadata": {},
     "output_type": "display_data"
    },
    {
     "data": {
      "text/latex": [
       "$\\displaystyle \\Gamma^{\\varphi}_{\\theta \\varphi} = \\frac{1.0}{\\tan{\\left(\\theta \\right)}}$"
      ],
      "text/plain": [
       "Eq(\\Gamma^{\\varphi}_{\\theta \\varphi}, 1.0/tan(theta))"
      ]
     },
     "metadata": {},
     "output_type": "display_data"
    }
   ],
   "source": [
    "Christ = MutableDenseNDimArray.zeros(4, 4, 4)\n",
    "for i in range(4):\n",
    "    for j in range(4):\n",
    "        for k in range(4):\n",
    "            Christ[i,j,k]= christcoef(g,gi,i,j,k)\n",
    "            Christ[i,j,k] = simplify(Christ[i,j,k])\n",
    "            if Christ[i,j,k] != 0:\n",
    "                displayless(Christ[i,j,k],i,j,k)"
   ]
  },
  {
   "cell_type": "markdown",
   "id": "37a24874-1a9e-4248-8d35-9237d6d496dd",
   "metadata": {},
   "source": [
    "## Riemann Tensor"
   ]
  },
  {
   "cell_type": "code",
   "execution_count": 8,
   "id": "a15ed8a1-b4fa-49a4-8bf8-68e8a576bc20",
   "metadata": {
    "tags": []
   },
   "outputs": [],
   "source": [
    "def dchris(Christ,i,j,k,l):\n",
    "    return diff(Christ[i,j,k],coor[l])"
   ]
  },
  {
   "cell_type": "code",
   "execution_count": 9,
   "id": "8fcdfab5-ea5d-40ed-a257-ddec77fbc444",
   "metadata": {
    "tags": []
   },
   "outputs": [],
   "source": [
    "def riemanncoef(Christ,i,j,k,l):\n",
    "    R = dchris(Christ,i,j,l,k) - dchris(Christ,i,j,k,l)\n",
    "    for m in range(4):\n",
    "        R += Christ[i,m,k]*Christ[m,j,l] - Christ[i,m,l]*Christ[m,j,k]\n",
    "    return R"
   ]
  },
  {
   "cell_type": "code",
   "execution_count": 10,
   "id": "55d90a60-35a3-48d3-a4ec-75a084d9d24d",
   "metadata": {
    "tags": []
   },
   "outputs": [],
   "source": [
    "def display2R(res,i,j,k,l):\n",
    "    ii = coor[i]\n",
    "    jj = coor[j]\n",
    "    kk = coor[k]\n",
    "    ll = coor[l]\n",
    "    display(Eq(Symbol(r'R^{%s}_{%s %s %s}' % (latex(ii), latex(jj), latex(kk), latex(ll))), res))\n",
    "    #print(r'R^{%s}_{%s %s %s} = {%s}\\qquad' % (latex(ii), latex(jj), latex(kk), latex(ll), latex(res)))"
   ]
  },
  {
   "cell_type": "code",
   "execution_count": 11,
   "id": "7230fbff-eac2-4f64-badc-c5c9cbfa8162",
   "metadata": {
    "tags": []
   },
   "outputs": [
    {
     "data": {
      "text/latex": [
       "$\\displaystyle R^{t}_{r t r} = \\frac{2.0 M}{r^{2} \\left(- 2.0 M + 1.0 r\\right)}$"
      ],
      "text/plain": [
       "Eq(R^{t}_{r t r}, 2.0*M/(r**2*(-2.0*M + 1.0*r)))"
      ]
     },
     "metadata": {},
     "output_type": "display_data"
    },
    {
     "data": {
      "text/latex": [
       "$\\displaystyle R^{t}_{r r t} = \\frac{2.0 M}{r^{2} \\cdot \\left(2.0 M - 1.0 r\\right)}$"
      ],
      "text/plain": [
       "Eq(R^{t}_{r r t}, 2.0*M/(r**2*(2.0*M - 1.0*r)))"
      ]
     },
     "metadata": {},
     "output_type": "display_data"
    },
    {
     "data": {
      "text/latex": [
       "$\\displaystyle R^{t}_{\\theta t \\theta} = - \\frac{1.0 M}{r}$"
      ],
      "text/plain": [
       "Eq(R^{t}_{\\theta t \\theta}, -1.0*M/r)"
      ]
     },
     "metadata": {},
     "output_type": "display_data"
    },
    {
     "data": {
      "text/latex": [
       "$\\displaystyle R^{t}_{\\theta \\theta t} = \\frac{1.0 M}{r}$"
      ],
      "text/plain": [
       "Eq(R^{t}_{\\theta \\theta t}, 1.0*M/r)"
      ]
     },
     "metadata": {},
     "output_type": "display_data"
    },
    {
     "data": {
      "text/latex": [
       "$\\displaystyle R^{t}_{\\varphi t \\varphi} = - \\frac{1.0 M \\sin^{2}{\\left(\\theta \\right)}}{r}$"
      ],
      "text/plain": [
       "Eq(R^{t}_{\\varphi t \\varphi}, -1.0*M*sin(theta)**2/r)"
      ]
     },
     "metadata": {},
     "output_type": "display_data"
    },
    {
     "data": {
      "text/latex": [
       "$\\displaystyle R^{t}_{\\varphi \\varphi t} = \\frac{1.0 M \\sin^{2}{\\left(\\theta \\right)}}{r}$"
      ],
      "text/plain": [
       "Eq(R^{t}_{\\varphi \\varphi t}, 1.0*M*sin(theta)**2/r)"
      ]
     },
     "metadata": {},
     "output_type": "display_data"
    },
    {
     "data": {
      "text/latex": [
       "$\\displaystyle R^{r}_{t t r} = \\frac{1.0 M \\left(- 4.0 M + 2.0 r\\right)}{r^{4}}$"
      ],
      "text/plain": [
       "Eq(R^{r}_{t t r}, 1.0*M*(-4.0*M + 2.0*r)/r**4)"
      ]
     },
     "metadata": {},
     "output_type": "display_data"
    },
    {
     "data": {
      "text/latex": [
       "$\\displaystyle R^{r}_{t r t} = \\frac{1.0 M \\left(4.0 M - 2.0 r\\right)}{r^{4}}$"
      ],
      "text/plain": [
       "Eq(R^{r}_{t r t}, 1.0*M*(4.0*M - 2.0*r)/r**4)"
      ]
     },
     "metadata": {},
     "output_type": "display_data"
    },
    {
     "data": {
      "text/latex": [
       "$\\displaystyle R^{r}_{\\theta r \\theta} = - \\frac{1.0 M}{r}$"
      ],
      "text/plain": [
       "Eq(R^{r}_{\\theta r \\theta}, -1.0*M/r)"
      ]
     },
     "metadata": {},
     "output_type": "display_data"
    },
    {
     "data": {
      "text/latex": [
       "$\\displaystyle R^{r}_{\\theta \\theta r} = \\frac{1.0 M}{r}$"
      ],
      "text/plain": [
       "Eq(R^{r}_{\\theta \\theta r}, 1.0*M/r)"
      ]
     },
     "metadata": {},
     "output_type": "display_data"
    },
    {
     "data": {
      "text/latex": [
       "$\\displaystyle R^{r}_{\\varphi r \\varphi} = - \\frac{1.0 M \\sin^{2}{\\left(\\theta \\right)}}{r}$"
      ],
      "text/plain": [
       "Eq(R^{r}_{\\varphi r \\varphi}, -1.0*M*sin(theta)**2/r)"
      ]
     },
     "metadata": {},
     "output_type": "display_data"
    },
    {
     "data": {
      "text/latex": [
       "$\\displaystyle R^{r}_{\\varphi \\varphi r} = \\frac{1.0 M \\sin^{2}{\\left(\\theta \\right)}}{r}$"
      ],
      "text/plain": [
       "Eq(R^{r}_{\\varphi \\varphi r}, 1.0*M*sin(theta)**2/r)"
      ]
     },
     "metadata": {},
     "output_type": "display_data"
    },
    {
     "data": {
      "text/latex": [
       "$\\displaystyle R^{\\theta}_{t t \\theta} = \\frac{1.0 M \\left(2.0 M - 1.0 r\\right)}{r^{4}}$"
      ],
      "text/plain": [
       "Eq(R^{\\theta}_{t t \\theta}, 1.0*M*(2.0*M - 1.0*r)/r**4)"
      ]
     },
     "metadata": {},
     "output_type": "display_data"
    },
    {
     "data": {
      "text/latex": [
       "$\\displaystyle R^{\\theta}_{t \\theta t} = \\frac{1.0 M \\left(- 2.0 M + 1.0 r\\right)}{r^{4}}$"
      ],
      "text/plain": [
       "Eq(R^{\\theta}_{t \\theta t}, 1.0*M*(-2.0*M + 1.0*r)/r**4)"
      ]
     },
     "metadata": {},
     "output_type": "display_data"
    },
    {
     "data": {
      "text/latex": [
       "$\\displaystyle R^{\\theta}_{r r \\theta} = \\frac{1.0 M}{r^{2} \\left(- 2.0 M + 1.0 r\\right)}$"
      ],
      "text/plain": [
       "Eq(R^{\\theta}_{r r \\theta}, 1.0*M/(r**2*(-2.0*M + 1.0*r)))"
      ]
     },
     "metadata": {},
     "output_type": "display_data"
    },
    {
     "data": {
      "text/latex": [
       "$\\displaystyle R^{\\theta}_{r \\theta r} = \\frac{1.0 M}{r^{2} \\cdot \\left(2.0 M - 1.0 r\\right)}$"
      ],
      "text/plain": [
       "Eq(R^{\\theta}_{r \\theta r}, 1.0*M/(r**2*(2.0*M - 1.0*r)))"
      ]
     },
     "metadata": {},
     "output_type": "display_data"
    },
    {
     "data": {
      "text/latex": [
       "$\\displaystyle R^{\\theta}_{\\varphi \\theta \\varphi} = \\frac{2.0 M \\sin^{2}{\\left(\\theta \\right)}}{r}$"
      ],
      "text/plain": [
       "Eq(R^{\\theta}_{\\varphi \\theta \\varphi}, 2.0*M*sin(theta)**2/r)"
      ]
     },
     "metadata": {},
     "output_type": "display_data"
    },
    {
     "data": {
      "text/latex": [
       "$\\displaystyle R^{\\theta}_{\\varphi \\varphi \\theta} = - \\frac{2.0 M \\sin^{2}{\\left(\\theta \\right)}}{r}$"
      ],
      "text/plain": [
       "Eq(R^{\\theta}_{\\varphi \\varphi \\theta}, -2.0*M*sin(theta)**2/r)"
      ]
     },
     "metadata": {},
     "output_type": "display_data"
    },
    {
     "data": {
      "text/latex": [
       "$\\displaystyle R^{\\varphi}_{t t \\varphi} = \\frac{1.0 M \\left(2.0 M - 1.0 r\\right)}{r^{4}}$"
      ],
      "text/plain": [
       "Eq(R^{\\varphi}_{t t \\varphi}, 1.0*M*(2.0*M - 1.0*r)/r**4)"
      ]
     },
     "metadata": {},
     "output_type": "display_data"
    },
    {
     "data": {
      "text/latex": [
       "$\\displaystyle R^{\\varphi}_{t \\varphi t} = \\frac{1.0 M \\left(- 2.0 M + 1.0 r\\right)}{r^{4}}$"
      ],
      "text/plain": [
       "Eq(R^{\\varphi}_{t \\varphi t}, 1.0*M*(-2.0*M + 1.0*r)/r**4)"
      ]
     },
     "metadata": {},
     "output_type": "display_data"
    },
    {
     "data": {
      "text/latex": [
       "$\\displaystyle R^{\\varphi}_{r r \\varphi} = \\frac{1.0 M}{r^{2} \\left(- 2.0 M + 1.0 r\\right)}$"
      ],
      "text/plain": [
       "Eq(R^{\\varphi}_{r r \\varphi}, 1.0*M/(r**2*(-2.0*M + 1.0*r)))"
      ]
     },
     "metadata": {},
     "output_type": "display_data"
    },
    {
     "data": {
      "text/latex": [
       "$\\displaystyle R^{\\varphi}_{r \\varphi r} = \\frac{1.0 M}{r^{2} \\cdot \\left(2.0 M - 1.0 r\\right)}$"
      ],
      "text/plain": [
       "Eq(R^{\\varphi}_{r \\varphi r}, 1.0*M/(r**2*(2.0*M - 1.0*r)))"
      ]
     },
     "metadata": {},
     "output_type": "display_data"
    },
    {
     "data": {
      "text/latex": [
       "$\\displaystyle R^{\\varphi}_{\\theta \\theta \\varphi} = - \\frac{2.0 M}{r}$"
      ],
      "text/plain": [
       "Eq(R^{\\varphi}_{\\theta \\theta \\varphi}, -2.0*M/r)"
      ]
     },
     "metadata": {},
     "output_type": "display_data"
    },
    {
     "data": {
      "text/latex": [
       "$\\displaystyle R^{\\varphi}_{\\theta \\varphi \\theta} = \\frac{2.0 M}{r}$"
      ],
      "text/plain": [
       "Eq(R^{\\varphi}_{\\theta \\varphi \\theta}, 2.0*M/r)"
      ]
     },
     "metadata": {},
     "output_type": "display_data"
    }
   ],
   "source": [
    "Riemann = MutableDenseNDimArray.zeros(4,4,4,4)\n",
    "for i in range(4):\n",
    "    for j in range(4):\n",
    "        for k in range(4):\n",
    "            for l in range(4):\n",
    "                Riemann[i,j,k,l]=riemanncoef(Christ,i,j,k,l)\n",
    "                Riemann[i,j,k,l] = simplify(Riemann[i,j,k,l])\n",
    "                if Riemann[i,j,k,l] != 0:\n",
    "                    display2R(Riemann[i,j,k,l],i,j,k,l)"
   ]
  },
  {
   "cell_type": "markdown",
   "id": "fdc52457-e59f-4509-9dff-1b17ce22c6d5",
   "metadata": {},
   "source": [
    "## Ricci Tensor"
   ]
  },
  {
   "cell_type": "code",
   "execution_count": 12,
   "id": "942be24b-e8f5-4775-891e-be1d9b7395cf",
   "metadata": {
    "tags": []
   },
   "outputs": [],
   "source": [
    "def riccicoef(Riemann,i,k):\n",
    "    Rc = 0\n",
    "    for j in range(4):\n",
    "        Rc += Riemann[j,i,j,k]\n",
    "    return Rc"
   ]
  },
  {
   "cell_type": "code",
   "execution_count": 13,
   "id": "c116780d-36ea-42b3-aa86-97a981df35bb",
   "metadata": {
    "tags": []
   },
   "outputs": [],
   "source": [
    "def display2Rc(res,i,k):\n",
    "    ii = coor[i]\n",
    "    kk = coor[k]\n",
    "    display(Eq(Symbol(r'R_{%s %s}' % (latex(ii),latex(kk))), res))"
   ]
  },
  {
   "cell_type": "code",
   "execution_count": 35,
   "id": "03631248-0f0f-499f-bc10-6981cea9cf6e",
   "metadata": {
    "tags": []
   },
   "outputs": [],
   "source": [
    "def display2Rcf(res):\n",
    "    display(Eq(Symbol(r'R'), res))"
   ]
  },
  {
   "cell_type": "code",
   "execution_count": 39,
   "id": "aa3a5919-cafa-4b33-a865-3338cefd9242",
   "metadata": {
    "tags": []
   },
   "outputs": [
    {
     "data": {
      "text/latex": [
       "$\\displaystyle \\text{False}$"
      ],
      "text/plain": [
       "False"
      ]
     },
     "metadata": {},
     "output_type": "display_data"
    }
   ],
   "source": [
    "Ricci = diag(0,0,0,0)\n",
    "for i in range(4):\n",
    "    for k in range(4):\n",
    "        Ricci[i,k] = riccicoef(Riemann,i,k)\n",
    "        Ricci[i,k] = simplify(Ricci[i,k])\n",
    "        #display2Rc(Ricci[i,k],i,k)\n",
    "display(Eq(Symbol(r'R_{\\alpha \\beta}'), Ricci))"
   ]
  },
  {
   "cell_type": "code",
   "execution_count": 36,
   "id": "749a8d17-c59f-43be-8b82-3160527219bb",
   "metadata": {
    "tags": []
   },
   "outputs": [
    {
     "data": {
      "text/latex": [
       "$\\displaystyle R = 0$"
      ],
      "text/plain": [
       "Eq(R, 0)"
      ]
     },
     "metadata": {},
     "output_type": "display_data"
    }
   ],
   "source": [
    "Res = 0\n",
    "for i in range(4):\n",
    "    for j in range(4):\n",
    "        Res += Ricci[i,j]*g[i,j]\n",
    "display2Rcf(Res)"
   ]
  },
  {
   "cell_type": "code",
   "execution_count": null,
   "id": "4ecdcd1b-e0ba-4d33-a40c-9ecf51e99e17",
   "metadata": {},
   "outputs": [],
   "source": []
  }
 ],
 "metadata": {
  "kernelspec": {
   "display_name": "Python 3 (ipykernel)",
   "language": "python",
   "name": "python3"
  },
  "language_info": {
   "codemirror_mode": {
    "name": "ipython",
    "version": 3
   },
   "file_extension": ".py",
   "mimetype": "text/x-python",
   "name": "python",
   "nbconvert_exporter": "python",
   "pygments_lexer": "ipython3",
   "version": "3.11.5"
  }
 },
 "nbformat": 4,
 "nbformat_minor": 5
}
