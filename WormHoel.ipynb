{
 "cells": [
  {
   "cell_type": "markdown",
   "id": "432a4251-6b24-44b8-b59c-48dbf3472d26",
   "metadata": {},
   "source": [
    "# Preliminar wormhole metric structure\n",
    "## Jesús Borrás"
   ]
  },
  {
   "cell_type": "code",
   "execution_count": 1,
   "id": "c5261446-5cab-4f0a-a7f6-0858814f827d",
   "metadata": {
    "tags": []
   },
   "outputs": [],
   "source": [
    "from sympy import *"
   ]
  },
  {
   "cell_type": "code",
   "execution_count": 2,
   "id": "74543a2a-c871-4676-8d97-8ecb55609394",
   "metadata": {
    "tags": []
   },
   "outputs": [
    {
     "data": {
      "text/latex": [
       "$\\displaystyle \\left[\\begin{matrix}- e^{2 \\alpha{\\left(r \\right)}} & 0 & 0 & 0\\\\0 & \\frac{1}{1 - \\frac{\\sigma{\\left(r \\right)}}{r}} & 0 & 0\\\\0 & 0 & r^{2} & 0\\\\0 & 0 & 0 & r^{2} \\sin^{2}{\\left(\\theta \\right)}\\end{matrix}\\right]$"
      ],
      "text/plain": [
       "Matrix([\n",
       "[-exp(2*alpha(r)),                  0,    0,                  0],\n",
       "[               0, 1/(1 - sigma(r)/r),    0,                  0],\n",
       "[               0,                  0, r**2,                  0],\n",
       "[               0,                  0,    0, r**2*sin(theta)**2]])"
      ]
     },
     "execution_count": 2,
     "metadata": {},
     "output_type": "execute_result"
    }
   ],
   "source": [
    "t, r, th, ph, tt, rt, tht, pht = symbols('t r theta varphi ttilde rtilde thetatilde varphitilde')\n",
    "rsh, sha, rho, pr, pang = symbols('alpha sigma rho p_r p_Theta', cls=Function)\n",
    "rsh = rsh(r)\n",
    "sha = sha(r)\n",
    "rho = rho(r)  \n",
    "pr = pr(r) \n",
    "pang = pang(r)\n",
    "coor = [t,r,th,ph]\n",
    "coort = [tt,rt,tht,pht]\n",
    "g = diag(-exp(2*rsh),(1-sha/r)**(-1),r**2,sin(th)**2*r**2)\n",
    "gi = g.inv()\n",
    "mink = diag(-1,1,1,1)\n",
    "g"
   ]
  },
  {
   "cell_type": "markdown",
   "id": "5c7ffa1e-993f-4142-9f4e-ac7e22b83388",
   "metadata": {},
   "source": [
    "## Christoffel symbols"
   ]
  },
  {
   "cell_type": "code",
   "execution_count": 3,
   "id": "8fda0061-2026-48c6-a10e-e125f2ec42ae",
   "metadata": {
    "tags": []
   },
   "outputs": [],
   "source": [
    "def christcoef(g,gi,i,j,k):\n",
    "    G = 0\n",
    "    for l in range(4):\n",
    "        G += .5*gi[i,l]*(dg(g,l,j,k)+ dg(g,l,k,j)- dg(g,j,k,l))\n",
    "    return G"
   ]
  },
  {
   "cell_type": "code",
   "execution_count": 4,
   "id": "c8d2610b-3105-4c6d-bdd6-72e63cca88e2",
   "metadata": {
    "tags": []
   },
   "outputs": [],
   "source": [
    "def dg(g,i,j,k):\n",
    "    return diff(g[i,j],coor[k])"
   ]
  },
  {
   "cell_type": "code",
   "execution_count": 8,
   "id": "a43da16f-0f79-49b1-9afa-b29844a14e88",
   "metadata": {
    "tags": []
   },
   "outputs": [],
   "source": [
    "def display2(res,i,j,k):\n",
    "    ii = coor[i]\n",
    "    jj = coor[j]\n",
    "    kk = coor[k]\n",
    "    display(Eq(Symbol(r'\\Gamma^{%s}_{%s %s}' % (latex(ii), latex(jj), latex(kk))), res))\n",
    "    #print(r'\\Gamma^{%s}_{%s %s} = {%s}\\qquad' % (latex(ii), latex(jj), latex(kk), latex(res)))"
   ]
  },
  {
   "cell_type": "code",
   "execution_count": 6,
   "id": "0ff387f6-0b39-4918-be24-d335f8706be1",
   "metadata": {
    "tags": []
   },
   "outputs": [],
   "source": [
    "def displayless(res,i,j,k):\n",
    "    ii = coor[i]\n",
    "    jj = coor[j]\n",
    "    kk = coor[k]\n",
    "    if j == 0:\n",
    "        display2(res,i,j,k)\n",
    "    if j == 1:\n",
    "        if k == 0: None\n",
    "        else: \n",
    "            display2(res,i,j,k)\n",
    "    if j == 2:\n",
    "        if k == 0 or k == 1: None\n",
    "        else: \n",
    "            display2(res,i,j,k)\n",
    "    if j == 3:\n",
    "        if k == 0 or k == 1 or k == 2: None\n",
    "        else: \n",
    "            display2(res,i,j,k)"
   ]
  },
  {
   "cell_type": "code",
   "execution_count": 9,
   "id": "c0bc0a00-e8dd-4f86-bc54-ddbffbe28951",
   "metadata": {
    "tags": []
   },
   "outputs": [
    {
     "data": {
      "text/latex": [
       "$\\displaystyle \\Gamma^{t}_{t r} = 1.0 \\frac{d}{d r} \\alpha{\\left(r \\right)}$"
      ],
      "text/plain": [
       "Eq(\\Gamma^{t}_{t r}, 1.0*Derivative(alpha(r), r))"
      ]
     },
     "metadata": {},
     "output_type": "display_data"
    },
    {
     "data": {
      "text/latex": [
       "$\\displaystyle \\Gamma^{r}_{t t} = 2 \\cdot \\left(0.5 - \\frac{0.5 \\sigma{\\left(r \\right)}}{r}\\right) e^{2 \\alpha{\\left(r \\right)}} \\frac{d}{d r} \\alpha{\\left(r \\right)}$"
      ],
      "text/plain": [
       "Eq(\\Gamma^{r}_{t t}, 2*(0.5 - 0.5*sigma(r)/r)*exp(2*alpha(r))*Derivative(alpha(r), r))"
      ]
     },
     "metadata": {},
     "output_type": "display_data"
    },
    {
     "data": {
      "text/latex": [
       "$\\displaystyle \\Gamma^{r}_{r r} = \\frac{\\left(0.5 - \\frac{0.5 \\sigma{\\left(r \\right)}}{r}\\right) \\left(\\frac{\\frac{d}{d r} \\sigma{\\left(r \\right)}}{r} - \\frac{\\sigma{\\left(r \\right)}}{r^{2}}\\right)}{\\left(1 - \\frac{\\sigma{\\left(r \\right)}}{r}\\right)^{2}}$"
      ],
      "text/plain": [
       "Eq(\\Gamma^{r}_{r r}, (0.5 - 0.5*sigma(r)/r)*(Derivative(sigma(r), r)/r - sigma(r)/r**2)/(1 - sigma(r)/r)**2)"
      ]
     },
     "metadata": {},
     "output_type": "display_data"
    },
    {
     "data": {
      "text/latex": [
       "$\\displaystyle \\Gamma^{r}_{\\theta \\theta} = - 2 r \\left(0.5 - \\frac{0.5 \\sigma{\\left(r \\right)}}{r}\\right)$"
      ],
      "text/plain": [
       "Eq(\\Gamma^{r}_{\\theta \\theta}, -2*r*(0.5 - 0.5*sigma(r)/r))"
      ]
     },
     "metadata": {},
     "output_type": "display_data"
    },
    {
     "data": {
      "text/latex": [
       "$\\displaystyle \\Gamma^{r}_{\\varphi \\varphi} = - 2 r \\left(0.5 - \\frac{0.5 \\sigma{\\left(r \\right)}}{r}\\right) \\sin^{2}{\\left(\\theta \\right)}$"
      ],
      "text/plain": [
       "Eq(\\Gamma^{r}_{\\varphi \\varphi}, -2*r*(0.5 - 0.5*sigma(r)/r)*sin(theta)**2)"
      ]
     },
     "metadata": {},
     "output_type": "display_data"
    },
    {
     "data": {
      "text/latex": [
       "$\\displaystyle \\Gamma^{\\theta}_{r \\theta} = \\frac{1.0}{r}$"
      ],
      "text/plain": [
       "Eq(\\Gamma^{\\theta}_{r \\theta}, 1.0/r)"
      ]
     },
     "metadata": {},
     "output_type": "display_data"
    },
    {
     "data": {
      "text/latex": [
       "$\\displaystyle \\Gamma^{\\theta}_{\\varphi \\varphi} = - 1.0 \\sin{\\left(\\theta \\right)} \\cos{\\left(\\theta \\right)}$"
      ],
      "text/plain": [
       "Eq(\\Gamma^{\\theta}_{\\varphi \\varphi}, -1.0*sin(theta)*cos(theta))"
      ]
     },
     "metadata": {},
     "output_type": "display_data"
    },
    {
     "data": {
      "text/latex": [
       "$\\displaystyle \\Gamma^{\\varphi}_{r \\varphi} = \\frac{1.0}{r}$"
      ],
      "text/plain": [
       "Eq(\\Gamma^{\\varphi}_{r \\varphi}, 1.0/r)"
      ]
     },
     "metadata": {},
     "output_type": "display_data"
    },
    {
     "data": {
      "text/latex": [
       "$\\displaystyle \\Gamma^{\\varphi}_{\\theta \\varphi} = \\frac{1.0 \\cos{\\left(\\theta \\right)}}{\\sin{\\left(\\theta \\right)}}$"
      ],
      "text/plain": [
       "Eq(\\Gamma^{\\varphi}_{\\theta \\varphi}, 1.0*cos(theta)/sin(theta))"
      ]
     },
     "metadata": {},
     "output_type": "display_data"
    }
   ],
   "source": [
    "Christ = MutableDenseNDimArray.zeros(4, 4, 4)\n",
    "for i in range(4):\n",
    "    for j in range(4):\n",
    "        for k in range(4):\n",
    "            Christ[i,j,k]= christcoef(g,gi,i,j,k)\n",
    "            #Christ[i,j,k] = simplify(Christ[i,j,k])\n",
    "            if Christ[i,j,k] != 0:\n",
    "                displayless(Christ[i,j,k],i,j,k)"
   ]
  },
  {
   "cell_type": "markdown",
   "id": "37a24874-1a9e-4248-8d35-9237d6d496dd",
   "metadata": {},
   "source": [
    "## Riemann Tensor"
   ]
  },
  {
   "cell_type": "code",
   "execution_count": 10,
   "id": "a15ed8a1-b4fa-49a4-8bf8-68e8a576bc20",
   "metadata": {
    "tags": []
   },
   "outputs": [],
   "source": [
    "def dchris(Christ,i,j,k,l):\n",
    "    return diff(Christ[i,j,k],coor[l])"
   ]
  },
  {
   "cell_type": "code",
   "execution_count": 11,
   "id": "8fcdfab5-ea5d-40ed-a257-ddec77fbc444",
   "metadata": {
    "tags": []
   },
   "outputs": [],
   "source": [
    "def riemanncoef(Christ,i,j,k,l):\n",
    "    R = dchris(Christ,i,j,l,k) - dchris(Christ,i,j,k,l)\n",
    "    for m in range(4):\n",
    "        R += Christ[i,m,k]*Christ[m,j,l] - Christ[i,m,l]*Christ[m,j,k]\n",
    "    return R"
   ]
  },
  {
   "cell_type": "code",
   "execution_count": 15,
   "id": "55d90a60-35a3-48d3-a4ec-75a084d9d24d",
   "metadata": {
    "tags": []
   },
   "outputs": [],
   "source": [
    "def display2R(res,i,j,k,l):\n",
    "    ii = coor[i]\n",
    "    jj = coor[j]\n",
    "    kk = coor[k]\n",
    "    ll = coor[l]\n",
    "    display(Eq(Symbol(r'R^{%s}_{%s %s %s}' % (latex(ii), latex(jj), latex(kk), latex(ll))), res))\n",
    "    #print(r'R^{%s}_{%s %s %s} = {%s}\\qquad' % (latex(ii), latex(jj), latex(kk), latex(ll), latex(res)))"
   ]
  },
  {
   "cell_type": "code",
   "execution_count": 16,
   "id": "7230fbff-eac2-4f64-badc-c5c9cbfa8162",
   "metadata": {
    "tags": []
   },
   "outputs": [
    {
     "data": {
      "text/latex": [
       "$\\displaystyle R^{t}_{r t r} = \\frac{- 1.0 r \\left(r - \\sigma{\\left(r \\right)}\\right) \\left(\\left(\\frac{d}{d r} \\alpha{\\left(r \\right)}\\right)^{2} + \\frac{d^{2}}{d r^{2}} \\alpha{\\left(r \\right)}\\right) + 0.5 \\left(r \\frac{d}{d r} \\sigma{\\left(r \\right)} - \\sigma{\\left(r \\right)}\\right) \\frac{d}{d r} \\alpha{\\left(r \\right)}}{r \\left(r - \\sigma{\\left(r \\right)}\\right)}$"
      ],
      "text/plain": [
       "Eq(R^{t}_{r t r}, (-1.0*r*(r - sigma(r))*(Derivative(alpha(r), r)**2 + Derivative(alpha(r), (r, 2))) + 0.5*(r*Derivative(sigma(r), r) - sigma(r))*Derivative(alpha(r), r))/(r*(r - sigma(r))))"
      ]
     },
     "metadata": {},
     "output_type": "display_data"
    },
    {
     "data": {
      "text/latex": [
       "$\\displaystyle R^{t}_{r r t} = \\frac{1.0 r \\left(r - \\sigma{\\left(r \\right)}\\right) \\left(\\left(\\frac{d}{d r} \\alpha{\\left(r \\right)}\\right)^{2} + \\frac{d^{2}}{d r^{2}} \\alpha{\\left(r \\right)}\\right) - 0.5 \\left(r \\frac{d}{d r} \\sigma{\\left(r \\right)} - \\sigma{\\left(r \\right)}\\right) \\frac{d}{d r} \\alpha{\\left(r \\right)}}{r \\left(r - \\sigma{\\left(r \\right)}\\right)}$"
      ],
      "text/plain": [
       "Eq(R^{t}_{r r t}, (1.0*r*(r - sigma(r))*(Derivative(alpha(r), r)**2 + Derivative(alpha(r), (r, 2))) - 0.5*(r*Derivative(sigma(r), r) - sigma(r))*Derivative(alpha(r), r))/(r*(r - sigma(r))))"
      ]
     },
     "metadata": {},
     "output_type": "display_data"
    },
    {
     "data": {
      "text/latex": [
       "$\\displaystyle R^{t}_{\\theta t \\theta} = 1.0 \\left(- r + \\sigma{\\left(r \\right)}\\right) \\frac{d}{d r} \\alpha{\\left(r \\right)}$"
      ],
      "text/plain": [
       "Eq(R^{t}_{\\theta t \\theta}, 1.0*(-r + sigma(r))*Derivative(alpha(r), r))"
      ]
     },
     "metadata": {},
     "output_type": "display_data"
    },
    {
     "data": {
      "text/latex": [
       "$\\displaystyle R^{t}_{\\theta \\theta t} = 1.0 \\left(r - \\sigma{\\left(r \\right)}\\right) \\frac{d}{d r} \\alpha{\\left(r \\right)}$"
      ],
      "text/plain": [
       "Eq(R^{t}_{\\theta \\theta t}, 1.0*(r - sigma(r))*Derivative(alpha(r), r))"
      ]
     },
     "metadata": {},
     "output_type": "display_data"
    },
    {
     "data": {
      "text/latex": [
       "$\\displaystyle R^{t}_{\\varphi t \\varphi} = 1.0 \\left(- r + \\sigma{\\left(r \\right)}\\right) \\sin^{2}{\\left(\\theta \\right)} \\frac{d}{d r} \\alpha{\\left(r \\right)}$"
      ],
      "text/plain": [
       "Eq(R^{t}_{\\varphi t \\varphi}, 1.0*(-r + sigma(r))*sin(theta)**2*Derivative(alpha(r), r))"
      ]
     },
     "metadata": {},
     "output_type": "display_data"
    },
    {
     "data": {
      "text/latex": [
       "$\\displaystyle R^{t}_{\\varphi \\varphi t} = 1.0 \\left(r - \\sigma{\\left(r \\right)}\\right) \\sin^{2}{\\left(\\theta \\right)} \\frac{d}{d r} \\alpha{\\left(r \\right)}$"
      ],
      "text/plain": [
       "Eq(R^{t}_{\\varphi \\varphi t}, 1.0*(r - sigma(r))*sin(theta)**2*Derivative(alpha(r), r))"
      ]
     },
     "metadata": {},
     "output_type": "display_data"
    },
    {
     "data": {
      "text/latex": [
       "$\\displaystyle R^{r}_{t t r} = \\frac{\\left(1.0 r \\left(\\left(- r + \\sigma{\\left(r \\right)}\\right) \\left(\\frac{d}{d r} \\alpha{\\left(r \\right)}\\right)^{2} - \\left(r - \\sigma{\\left(r \\right)}\\right) \\frac{d^{2}}{d r^{2}} \\alpha{\\left(r \\right)}\\right) + 0.5 \\left(r \\frac{d}{d r} \\sigma{\\left(r \\right)} - \\sigma{\\left(r \\right)}\\right) \\frac{d}{d r} \\alpha{\\left(r \\right)}\\right) e^{2 \\alpha{\\left(r \\right)}}}{r^{2}}$"
      ],
      "text/plain": [
       "Eq(R^{r}_{t t r}, (1.0*r*((-r + sigma(r))*Derivative(alpha(r), r)**2 - (r - sigma(r))*Derivative(alpha(r), (r, 2))) + 0.5*(r*Derivative(sigma(r), r) - sigma(r))*Derivative(alpha(r), r))*exp(2*alpha(r))/r**2)"
      ]
     },
     "metadata": {},
     "output_type": "display_data"
    },
    {
     "data": {
      "text/latex": [
       "$\\displaystyle R^{r}_{t r t} = \\frac{\\left(1.0 r \\left(r - \\sigma{\\left(r \\right)}\\right) \\left(\\left(\\frac{d}{d r} \\alpha{\\left(r \\right)}\\right)^{2} + \\frac{d^{2}}{d r^{2}} \\alpha{\\left(r \\right)}\\right) - 0.5 \\left(r \\frac{d}{d r} \\sigma{\\left(r \\right)} - \\sigma{\\left(r \\right)}\\right) \\frac{d}{d r} \\alpha{\\left(r \\right)}\\right) e^{2 \\alpha{\\left(r \\right)}}}{r^{2}}$"
      ],
      "text/plain": [
       "Eq(R^{r}_{t r t}, (1.0*r*(r - sigma(r))*(Derivative(alpha(r), r)**2 + Derivative(alpha(r), (r, 2))) - 0.5*(r*Derivative(sigma(r), r) - sigma(r))*Derivative(alpha(r), r))*exp(2*alpha(r))/r**2)"
      ]
     },
     "metadata": {},
     "output_type": "display_data"
    },
    {
     "data": {
      "text/latex": [
       "$\\displaystyle R^{r}_{\\theta r \\theta} = 0.5 \\frac{d}{d r} \\sigma{\\left(r \\right)} - \\frac{0.5 \\sigma{\\left(r \\right)}}{r}$"
      ],
      "text/plain": [
       "Eq(R^{r}_{\\theta r \\theta}, 0.5*Derivative(sigma(r), r) - 0.5*sigma(r)/r)"
      ]
     },
     "metadata": {},
     "output_type": "display_data"
    },
    {
     "data": {
      "text/latex": [
       "$\\displaystyle R^{r}_{\\theta \\theta r} = - 0.5 \\frac{d}{d r} \\sigma{\\left(r \\right)} + \\frac{0.5 \\sigma{\\left(r \\right)}}{r}$"
      ],
      "text/plain": [
       "Eq(R^{r}_{\\theta \\theta r}, -0.5*Derivative(sigma(r), r) + 0.5*sigma(r)/r)"
      ]
     },
     "metadata": {},
     "output_type": "display_data"
    },
    {
     "data": {
      "text/latex": [
       "$\\displaystyle R^{r}_{\\varphi r \\varphi} = \\frac{0.5 \\left(r \\frac{d}{d r} \\sigma{\\left(r \\right)} - \\sigma{\\left(r \\right)}\\right) \\sin^{2}{\\left(\\theta \\right)}}{r}$"
      ],
      "text/plain": [
       "Eq(R^{r}_{\\varphi r \\varphi}, 0.5*(r*Derivative(sigma(r), r) - sigma(r))*sin(theta)**2/r)"
      ]
     },
     "metadata": {},
     "output_type": "display_data"
    },
    {
     "data": {
      "text/latex": [
       "$\\displaystyle R^{r}_{\\varphi \\varphi r} = \\frac{0.5 \\left(- r \\frac{d}{d r} \\sigma{\\left(r \\right)} + \\sigma{\\left(r \\right)}\\right) \\sin^{2}{\\left(\\theta \\right)}}{r}$"
      ],
      "text/plain": [
       "Eq(R^{r}_{\\varphi \\varphi r}, 0.5*(-r*Derivative(sigma(r), r) + sigma(r))*sin(theta)**2/r)"
      ]
     },
     "metadata": {},
     "output_type": "display_data"
    },
    {
     "data": {
      "text/latex": [
       "$\\displaystyle R^{\\theta}_{t t \\theta} = \\frac{1.0 \\left(- r + \\sigma{\\left(r \\right)}\\right) e^{2 \\alpha{\\left(r \\right)}} \\frac{d}{d r} \\alpha{\\left(r \\right)}}{r^{2}}$"
      ],
      "text/plain": [
       "Eq(R^{\\theta}_{t t \\theta}, 1.0*(-r + sigma(r))*exp(2*alpha(r))*Derivative(alpha(r), r)/r**2)"
      ]
     },
     "metadata": {},
     "output_type": "display_data"
    },
    {
     "data": {
      "text/latex": [
       "$\\displaystyle R^{\\theta}_{t \\theta t} = \\frac{1.0 \\left(r - \\sigma{\\left(r \\right)}\\right) e^{2 \\alpha{\\left(r \\right)}} \\frac{d}{d r} \\alpha{\\left(r \\right)}}{r^{2}}$"
      ],
      "text/plain": [
       "Eq(R^{\\theta}_{t \\theta t}, 1.0*(r - sigma(r))*exp(2*alpha(r))*Derivative(alpha(r), r)/r**2)"
      ]
     },
     "metadata": {},
     "output_type": "display_data"
    },
    {
     "data": {
      "text/latex": [
       "$\\displaystyle R^{\\theta}_{r r \\theta} = \\frac{0.5 \\left(- r \\frac{d}{d r} \\sigma{\\left(r \\right)} + \\sigma{\\left(r \\right)}\\right)}{r^{2} \\left(r - \\sigma{\\left(r \\right)}\\right)}$"
      ],
      "text/plain": [
       "Eq(R^{\\theta}_{r r \\theta}, 0.5*(-r*Derivative(sigma(r), r) + sigma(r))/(r**2*(r - sigma(r))))"
      ]
     },
     "metadata": {},
     "output_type": "display_data"
    },
    {
     "data": {
      "text/latex": [
       "$\\displaystyle R^{\\theta}_{r \\theta r} = \\frac{0.5 \\left(r \\frac{d}{d r} \\sigma{\\left(r \\right)} - \\sigma{\\left(r \\right)}\\right)}{r^{2} \\left(r - \\sigma{\\left(r \\right)}\\right)}$"
      ],
      "text/plain": [
       "Eq(R^{\\theta}_{r \\theta r}, 0.5*(r*Derivative(sigma(r), r) - sigma(r))/(r**2*(r - sigma(r))))"
      ]
     },
     "metadata": {},
     "output_type": "display_data"
    },
    {
     "data": {
      "text/latex": [
       "$\\displaystyle R^{\\theta}_{\\varphi \\theta \\varphi} = \\frac{1.0 \\sigma{\\left(r \\right)} \\sin^{2}{\\left(\\theta \\right)}}{r}$"
      ],
      "text/plain": [
       "Eq(R^{\\theta}_{\\varphi \\theta \\varphi}, 1.0*sigma(r)*sin(theta)**2/r)"
      ]
     },
     "metadata": {},
     "output_type": "display_data"
    },
    {
     "data": {
      "text/latex": [
       "$\\displaystyle R^{\\theta}_{\\varphi \\varphi \\theta} = - \\frac{1.0 \\sigma{\\left(r \\right)} \\sin^{2}{\\left(\\theta \\right)}}{r}$"
      ],
      "text/plain": [
       "Eq(R^{\\theta}_{\\varphi \\varphi \\theta}, -1.0*sigma(r)*sin(theta)**2/r)"
      ]
     },
     "metadata": {},
     "output_type": "display_data"
    },
    {
     "data": {
      "text/latex": [
       "$\\displaystyle R^{\\varphi}_{t t \\varphi} = \\frac{1.0 \\left(- r + \\sigma{\\left(r \\right)}\\right) e^{2 \\alpha{\\left(r \\right)}} \\frac{d}{d r} \\alpha{\\left(r \\right)}}{r^{2}}$"
      ],
      "text/plain": [
       "Eq(R^{\\varphi}_{t t \\varphi}, 1.0*(-r + sigma(r))*exp(2*alpha(r))*Derivative(alpha(r), r)/r**2)"
      ]
     },
     "metadata": {},
     "output_type": "display_data"
    },
    {
     "data": {
      "text/latex": [
       "$\\displaystyle R^{\\varphi}_{t \\varphi t} = \\frac{1.0 \\left(r - \\sigma{\\left(r \\right)}\\right) e^{2 \\alpha{\\left(r \\right)}} \\frac{d}{d r} \\alpha{\\left(r \\right)}}{r^{2}}$"
      ],
      "text/plain": [
       "Eq(R^{\\varphi}_{t \\varphi t}, 1.0*(r - sigma(r))*exp(2*alpha(r))*Derivative(alpha(r), r)/r**2)"
      ]
     },
     "metadata": {},
     "output_type": "display_data"
    },
    {
     "data": {
      "text/latex": [
       "$\\displaystyle R^{\\varphi}_{r r \\varphi} = \\frac{0.5 \\left(- r \\frac{d}{d r} \\sigma{\\left(r \\right)} + \\sigma{\\left(r \\right)}\\right)}{r^{2} \\left(r - \\sigma{\\left(r \\right)}\\right)}$"
      ],
      "text/plain": [
       "Eq(R^{\\varphi}_{r r \\varphi}, 0.5*(-r*Derivative(sigma(r), r) + sigma(r))/(r**2*(r - sigma(r))))"
      ]
     },
     "metadata": {},
     "output_type": "display_data"
    },
    {
     "data": {
      "text/latex": [
       "$\\displaystyle R^{\\varphi}_{r \\varphi r} = \\frac{0.5 \\left(r \\frac{d}{d r} \\sigma{\\left(r \\right)} - \\sigma{\\left(r \\right)}\\right)}{r^{2} \\left(r - \\sigma{\\left(r \\right)}\\right)}$"
      ],
      "text/plain": [
       "Eq(R^{\\varphi}_{r \\varphi r}, 0.5*(r*Derivative(sigma(r), r) - sigma(r))/(r**2*(r - sigma(r))))"
      ]
     },
     "metadata": {},
     "output_type": "display_data"
    },
    {
     "data": {
      "text/latex": [
       "$\\displaystyle R^{\\varphi}_{\\theta \\theta \\varphi} = - \\frac{1.0 \\sigma{\\left(r \\right)}}{r}$"
      ],
      "text/plain": [
       "Eq(R^{\\varphi}_{\\theta \\theta \\varphi}, -1.0*sigma(r)/r)"
      ]
     },
     "metadata": {},
     "output_type": "display_data"
    },
    {
     "data": {
      "text/latex": [
       "$\\displaystyle R^{\\varphi}_{\\theta \\varphi \\theta} = \\frac{1.0 \\sigma{\\left(r \\right)}}{r}$"
      ],
      "text/plain": [
       "Eq(R^{\\varphi}_{\\theta \\varphi \\theta}, 1.0*sigma(r)/r)"
      ]
     },
     "metadata": {},
     "output_type": "display_data"
    }
   ],
   "source": [
    "Riemann = MutableDenseNDimArray.zeros(4,4,4,4)\n",
    "for i in range(4):\n",
    "    for j in range(4):\n",
    "        for k in range(4):\n",
    "            for l in range(4):\n",
    "                Riemann[i,j,k,l]=riemanncoef(Christ,i,j,k,l)\n",
    "                Riemann[i,j,k,l] = simplify(Riemann[i,j,k,l])\n",
    "                if Riemann[i,j,k,l] != 0:\n",
    "                    display2R(Riemann[i,j,k,l],i,j,k,l)"
   ]
  },
  {
   "cell_type": "markdown",
   "id": "61f6513b-31c3-47c4-8bfc-77dfe5be3037",
   "metadata": {},
   "source": [
    "## Riemann tensor with the proper frame metric"
   ]
  },
  {
   "cell_type": "code",
   "execution_count": 21,
   "id": "e6ffa8ef-bba3-467d-ac22-772ff4882074",
   "metadata": {
    "tags": []
   },
   "outputs": [],
   "source": [
    "def display2Rp(res,i,j,k,l):\n",
    "    ii = coort[i]\n",
    "    jj = coort[j]\n",
    "    kk = coort[k]\n",
    "    ll = coort[l]\n",
    "    display(Eq(Symbol(r'R^{%s}_{%s {%s} %s}' % (latex(ii), latex(jj), latex(kk), latex(ll))), res))\n",
    "    #print(r'R^{%s}_{%s %s %s} = {%s}\\qquad' % (latex(ii), latex(jj), latex(kk), latex(ll), latex(res)))"
   ]
  },
  {
   "cell_type": "code",
   "execution_count": 22,
   "id": "d8372d23-725c-4c73-9e44-9cb0e46aac9c",
   "metadata": {
    "tags": []
   },
   "outputs": [
    {
     "data": {
      "text/latex": [
       "$\\displaystyle R^{\\tilde{t}}_{\\tilde{r} {\\tilde{t}} \\tilde{r}} = \\frac{- 1.0 r \\left(r - \\sigma{\\left(r \\right)}\\right) \\left(\\left(\\frac{d}{d r} \\alpha{\\left(r \\right)}\\right)^{2} + \\frac{d^{2}}{d r^{2}} \\alpha{\\left(r \\right)}\\right) + 0.5 \\left(r \\frac{d}{d r} \\sigma{\\left(r \\right)} - \\sigma{\\left(r \\right)}\\right) \\frac{d}{d r} \\alpha{\\left(r \\right)}}{r^{2}}$"
      ],
      "text/plain": [
       "Eq(R^{\\tilde{t}}_{\\tilde{r} {\\tilde{t}} \\tilde{r}}, (-1.0*r*(r - sigma(r))*(Derivative(alpha(r), r)**2 + Derivative(alpha(r), (r, 2))) + 0.5*(r*Derivative(sigma(r), r) - sigma(r))*Derivative(alpha(r), r))/r**2)"
      ]
     },
     "metadata": {},
     "output_type": "display_data"
    },
    {
     "data": {
      "text/latex": [
       "$\\displaystyle R^{\\tilde{t}}_{\\tilde{r} {\\tilde{r}} \\tilde{t}} = \\frac{1.0 r \\left(r - \\sigma{\\left(r \\right)}\\right) \\left(\\left(\\frac{d}{d r} \\alpha{\\left(r \\right)}\\right)^{2} + \\frac{d^{2}}{d r^{2}} \\alpha{\\left(r \\right)}\\right) - 0.5 \\left(r \\frac{d}{d r} \\sigma{\\left(r \\right)} - \\sigma{\\left(r \\right)}\\right) \\frac{d}{d r} \\alpha{\\left(r \\right)}}{r^{2}}$"
      ],
      "text/plain": [
       "Eq(R^{\\tilde{t}}_{\\tilde{r} {\\tilde{r}} \\tilde{t}}, (1.0*r*(r - sigma(r))*(Derivative(alpha(r), r)**2 + Derivative(alpha(r), (r, 2))) - 0.5*(r*Derivative(sigma(r), r) - sigma(r))*Derivative(alpha(r), r))/r**2)"
      ]
     },
     "metadata": {},
     "output_type": "display_data"
    },
    {
     "data": {
      "text/latex": [
       "$\\displaystyle R^{\\tilde{t}}_{\\tilde{\\theta} {\\tilde{t}} \\tilde{\\theta}} = \\frac{1.0 \\left(- r + \\sigma{\\left(r \\right)}\\right) \\frac{d}{d r} \\alpha{\\left(r \\right)}}{r^{2}}$"
      ],
      "text/plain": [
       "Eq(R^{\\tilde{t}}_{\\tilde{\\theta} {\\tilde{t}} \\tilde{\\theta}}, 1.0*(-r + sigma(r))*Derivative(alpha(r), r)/r**2)"
      ]
     },
     "metadata": {},
     "output_type": "display_data"
    },
    {
     "data": {
      "text/latex": [
       "$\\displaystyle R^{\\tilde{t}}_{\\tilde{\\theta} {\\tilde{\\theta}} \\tilde{t}} = \\frac{1.0 \\left(r - \\sigma{\\left(r \\right)}\\right) \\frac{d}{d r} \\alpha{\\left(r \\right)}}{r^{2}}$"
      ],
      "text/plain": [
       "Eq(R^{\\tilde{t}}_{\\tilde{\\theta} {\\tilde{\\theta}} \\tilde{t}}, 1.0*(r - sigma(r))*Derivative(alpha(r), r)/r**2)"
      ]
     },
     "metadata": {},
     "output_type": "display_data"
    },
    {
     "data": {
      "text/latex": [
       "$\\displaystyle R^{\\tilde{t}}_{\\tilde{\\varphi} {\\tilde{t}} \\tilde{\\varphi}} = \\frac{1.0 \\left(- r + \\sigma{\\left(r \\right)}\\right) \\frac{d}{d r} \\alpha{\\left(r \\right)}}{r^{2}}$"
      ],
      "text/plain": [
       "Eq(R^{\\tilde{t}}_{\\tilde{\\varphi} {\\tilde{t}} \\tilde{\\varphi}}, 1.0*(-r + sigma(r))*Derivative(alpha(r), r)/r**2)"
      ]
     },
     "metadata": {},
     "output_type": "display_data"
    },
    {
     "data": {
      "text/latex": [
       "$\\displaystyle R^{\\tilde{t}}_{\\tilde{\\varphi} {\\tilde{\\varphi}} \\tilde{t}} = \\frac{1.0 \\left(r - \\sigma{\\left(r \\right)}\\right) \\frac{d}{d r} \\alpha{\\left(r \\right)}}{r^{2}}$"
      ],
      "text/plain": [
       "Eq(R^{\\tilde{t}}_{\\tilde{\\varphi} {\\tilde{\\varphi}} \\tilde{t}}, 1.0*(r - sigma(r))*Derivative(alpha(r), r)/r**2)"
      ]
     },
     "metadata": {},
     "output_type": "display_data"
    },
    {
     "data": {
      "text/latex": [
       "$\\displaystyle R^{\\tilde{r}}_{\\tilde{t} {\\tilde{t}} \\tilde{r}} = \\frac{- 1.0 r \\left(r - \\sigma{\\left(r \\right)}\\right) \\left(\\left(\\frac{d}{d r} \\alpha{\\left(r \\right)}\\right)^{2} + \\frac{d^{2}}{d r^{2}} \\alpha{\\left(r \\right)}\\right) + 0.5 \\left(r \\frac{d}{d r} \\sigma{\\left(r \\right)} - \\sigma{\\left(r \\right)}\\right) \\frac{d}{d r} \\alpha{\\left(r \\right)}}{r^{2}}$"
      ],
      "text/plain": [
       "Eq(R^{\\tilde{r}}_{\\tilde{t} {\\tilde{t}} \\tilde{r}}, (-1.0*r*(r - sigma(r))*(Derivative(alpha(r), r)**2 + Derivative(alpha(r), (r, 2))) + 0.5*(r*Derivative(sigma(r), r) - sigma(r))*Derivative(alpha(r), r))/r**2)"
      ]
     },
     "metadata": {},
     "output_type": "display_data"
    },
    {
     "data": {
      "text/latex": [
       "$\\displaystyle R^{\\tilde{r}}_{\\tilde{t} {\\tilde{r}} \\tilde{t}} = \\frac{1.0 r \\left(r - \\sigma{\\left(r \\right)}\\right) \\left(\\left(\\frac{d}{d r} \\alpha{\\left(r \\right)}\\right)^{2} + \\frac{d^{2}}{d r^{2}} \\alpha{\\left(r \\right)}\\right) - 0.5 \\left(r \\frac{d}{d r} \\sigma{\\left(r \\right)} - \\sigma{\\left(r \\right)}\\right) \\frac{d}{d r} \\alpha{\\left(r \\right)}}{r^{2}}$"
      ],
      "text/plain": [
       "Eq(R^{\\tilde{r}}_{\\tilde{t} {\\tilde{r}} \\tilde{t}}, (1.0*r*(r - sigma(r))*(Derivative(alpha(r), r)**2 + Derivative(alpha(r), (r, 2))) - 0.5*(r*Derivative(sigma(r), r) - sigma(r))*Derivative(alpha(r), r))/r**2)"
      ]
     },
     "metadata": {},
     "output_type": "display_data"
    },
    {
     "data": {
      "text/latex": [
       "$\\displaystyle R^{\\tilde{r}}_{\\tilde{\\theta} {\\tilde{r}} \\tilde{\\theta}} = \\frac{0.5 \\left(r \\frac{d}{d r} \\sigma{\\left(r \\right)} - \\sigma{\\left(r \\right)}\\right)}{r^{3}}$"
      ],
      "text/plain": [
       "Eq(R^{\\tilde{r}}_{\\tilde{\\theta} {\\tilde{r}} \\tilde{\\theta}}, 0.5*(r*Derivative(sigma(r), r) - sigma(r))/r**3)"
      ]
     },
     "metadata": {},
     "output_type": "display_data"
    },
    {
     "data": {
      "text/latex": [
       "$\\displaystyle R^{\\tilde{r}}_{\\tilde{\\theta} {\\tilde{\\theta}} \\tilde{r}} = \\frac{0.5 \\left(- r \\frac{d}{d r} \\sigma{\\left(r \\right)} + \\sigma{\\left(r \\right)}\\right)}{r^{3}}$"
      ],
      "text/plain": [
       "Eq(R^{\\tilde{r}}_{\\tilde{\\theta} {\\tilde{\\theta}} \\tilde{r}}, 0.5*(-r*Derivative(sigma(r), r) + sigma(r))/r**3)"
      ]
     },
     "metadata": {},
     "output_type": "display_data"
    },
    {
     "data": {
      "text/latex": [
       "$\\displaystyle R^{\\tilde{r}}_{\\tilde{\\varphi} {\\tilde{r}} \\tilde{\\varphi}} = \\frac{0.5 \\left(r \\frac{d}{d r} \\sigma{\\left(r \\right)} - \\sigma{\\left(r \\right)}\\right)}{r^{3}}$"
      ],
      "text/plain": [
       "Eq(R^{\\tilde{r}}_{\\tilde{\\varphi} {\\tilde{r}} \\tilde{\\varphi}}, 0.5*(r*Derivative(sigma(r), r) - sigma(r))/r**3)"
      ]
     },
     "metadata": {},
     "output_type": "display_data"
    },
    {
     "data": {
      "text/latex": [
       "$\\displaystyle R^{\\tilde{r}}_{\\tilde{\\varphi} {\\tilde{\\varphi}} \\tilde{r}} = \\frac{0.5 \\left(- r \\frac{d}{d r} \\sigma{\\left(r \\right)} + \\sigma{\\left(r \\right)}\\right)}{r^{3}}$"
      ],
      "text/plain": [
       "Eq(R^{\\tilde{r}}_{\\tilde{\\varphi} {\\tilde{\\varphi}} \\tilde{r}}, 0.5*(-r*Derivative(sigma(r), r) + sigma(r))/r**3)"
      ]
     },
     "metadata": {},
     "output_type": "display_data"
    },
    {
     "data": {
      "text/latex": [
       "$\\displaystyle R^{\\tilde{\\theta}}_{\\tilde{t} {\\tilde{t}} \\tilde{\\theta}} = \\frac{1.0 \\left(- r + \\sigma{\\left(r \\right)}\\right) \\frac{d}{d r} \\alpha{\\left(r \\right)}}{r^{2}}$"
      ],
      "text/plain": [
       "Eq(R^{\\tilde{\\theta}}_{\\tilde{t} {\\tilde{t}} \\tilde{\\theta}}, 1.0*(-r + sigma(r))*Derivative(alpha(r), r)/r**2)"
      ]
     },
     "metadata": {},
     "output_type": "display_data"
    },
    {
     "data": {
      "text/latex": [
       "$\\displaystyle R^{\\tilde{\\theta}}_{\\tilde{t} {\\tilde{\\theta}} \\tilde{t}} = \\frac{1.0 \\left(r - \\sigma{\\left(r \\right)}\\right) \\frac{d}{d r} \\alpha{\\left(r \\right)}}{r^{2}}$"
      ],
      "text/plain": [
       "Eq(R^{\\tilde{\\theta}}_{\\tilde{t} {\\tilde{\\theta}} \\tilde{t}}, 1.0*(r - sigma(r))*Derivative(alpha(r), r)/r**2)"
      ]
     },
     "metadata": {},
     "output_type": "display_data"
    },
    {
     "data": {
      "text/latex": [
       "$\\displaystyle R^{\\tilde{\\theta}}_{\\tilde{r} {\\tilde{r}} \\tilde{\\theta}} = \\frac{0.5 \\left(- r \\frac{d}{d r} \\sigma{\\left(r \\right)} + \\sigma{\\left(r \\right)}\\right)}{r^{3}}$"
      ],
      "text/plain": [
       "Eq(R^{\\tilde{\\theta}}_{\\tilde{r} {\\tilde{r}} \\tilde{\\theta}}, 0.5*(-r*Derivative(sigma(r), r) + sigma(r))/r**3)"
      ]
     },
     "metadata": {},
     "output_type": "display_data"
    },
    {
     "data": {
      "text/latex": [
       "$\\displaystyle R^{\\tilde{\\theta}}_{\\tilde{r} {\\tilde{\\theta}} \\tilde{r}} = \\frac{0.5 \\left(r \\frac{d}{d r} \\sigma{\\left(r \\right)} - \\sigma{\\left(r \\right)}\\right)}{r^{3}}$"
      ],
      "text/plain": [
       "Eq(R^{\\tilde{\\theta}}_{\\tilde{r} {\\tilde{\\theta}} \\tilde{r}}, 0.5*(r*Derivative(sigma(r), r) - sigma(r))/r**3)"
      ]
     },
     "metadata": {},
     "output_type": "display_data"
    },
    {
     "data": {
      "text/latex": [
       "$\\displaystyle R^{\\tilde{\\theta}}_{\\tilde{\\varphi} {\\tilde{\\theta}} \\tilde{\\varphi}} = \\frac{1.0 \\sigma{\\left(r \\right)}}{r^{3}}$"
      ],
      "text/plain": [
       "Eq(R^{\\tilde{\\theta}}_{\\tilde{\\varphi} {\\tilde{\\theta}} \\tilde{\\varphi}}, 1.0*sigma(r)/r**3)"
      ]
     },
     "metadata": {},
     "output_type": "display_data"
    },
    {
     "data": {
      "text/latex": [
       "$\\displaystyle R^{\\tilde{\\theta}}_{\\tilde{\\varphi} {\\tilde{\\varphi}} \\tilde{\\theta}} = - \\frac{1.0 \\sigma{\\left(r \\right)}}{r^{3}}$"
      ],
      "text/plain": [
       "Eq(R^{\\tilde{\\theta}}_{\\tilde{\\varphi} {\\tilde{\\varphi}} \\tilde{\\theta}}, -1.0*sigma(r)/r**3)"
      ]
     },
     "metadata": {},
     "output_type": "display_data"
    },
    {
     "data": {
      "text/latex": [
       "$\\displaystyle R^{\\tilde{\\varphi}}_{\\tilde{t} {\\tilde{t}} \\tilde{\\varphi}} = \\frac{1.0 \\left(- r + \\sigma{\\left(r \\right)}\\right) \\frac{d}{d r} \\alpha{\\left(r \\right)}}{r^{2}}$"
      ],
      "text/plain": [
       "Eq(R^{\\tilde{\\varphi}}_{\\tilde{t} {\\tilde{t}} \\tilde{\\varphi}}, 1.0*(-r + sigma(r))*Derivative(alpha(r), r)/r**2)"
      ]
     },
     "metadata": {},
     "output_type": "display_data"
    },
    {
     "data": {
      "text/latex": [
       "$\\displaystyle R^{\\tilde{\\varphi}}_{\\tilde{t} {\\tilde{\\varphi}} \\tilde{t}} = \\frac{1.0 \\left(r - \\sigma{\\left(r \\right)}\\right) \\frac{d}{d r} \\alpha{\\left(r \\right)}}{r^{2}}$"
      ],
      "text/plain": [
       "Eq(R^{\\tilde{\\varphi}}_{\\tilde{t} {\\tilde{\\varphi}} \\tilde{t}}, 1.0*(r - sigma(r))*Derivative(alpha(r), r)/r**2)"
      ]
     },
     "metadata": {},
     "output_type": "display_data"
    },
    {
     "data": {
      "text/latex": [
       "$\\displaystyle R^{\\tilde{\\varphi}}_{\\tilde{r} {\\tilde{r}} \\tilde{\\varphi}} = \\frac{0.5 \\left(- r \\frac{d}{d r} \\sigma{\\left(r \\right)} + \\sigma{\\left(r \\right)}\\right)}{r^{3}}$"
      ],
      "text/plain": [
       "Eq(R^{\\tilde{\\varphi}}_{\\tilde{r} {\\tilde{r}} \\tilde{\\varphi}}, 0.5*(-r*Derivative(sigma(r), r) + sigma(r))/r**3)"
      ]
     },
     "metadata": {},
     "output_type": "display_data"
    },
    {
     "data": {
      "text/latex": [
       "$\\displaystyle R^{\\tilde{\\varphi}}_{\\tilde{r} {\\tilde{\\varphi}} \\tilde{r}} = \\frac{0.5 \\left(r \\frac{d}{d r} \\sigma{\\left(r \\right)} - \\sigma{\\left(r \\right)}\\right)}{r^{3}}$"
      ],
      "text/plain": [
       "Eq(R^{\\tilde{\\varphi}}_{\\tilde{r} {\\tilde{\\varphi}} \\tilde{r}}, 0.5*(r*Derivative(sigma(r), r) - sigma(r))/r**3)"
      ]
     },
     "metadata": {},
     "output_type": "display_data"
    },
    {
     "data": {
      "text/latex": [
       "$\\displaystyle R^{\\tilde{\\varphi}}_{\\tilde{\\theta} {\\tilde{\\theta}} \\tilde{\\varphi}} = - \\frac{1.0 \\sigma{\\left(r \\right)}}{r^{3}}$"
      ],
      "text/plain": [
       "Eq(R^{\\tilde{\\varphi}}_{\\tilde{\\theta} {\\tilde{\\theta}} \\tilde{\\varphi}}, -1.0*sigma(r)/r**3)"
      ]
     },
     "metadata": {},
     "output_type": "display_data"
    },
    {
     "data": {
      "text/latex": [
       "$\\displaystyle R^{\\tilde{\\varphi}}_{\\tilde{\\theta} {\\tilde{\\varphi}} \\tilde{\\theta}} = \\frac{1.0 \\sigma{\\left(r \\right)}}{r^{3}}$"
      ],
      "text/plain": [
       "Eq(R^{\\tilde{\\varphi}}_{\\tilde{\\theta} {\\tilde{\\varphi}} \\tilde{\\theta}}, 1.0*sigma(r)/r**3)"
      ]
     },
     "metadata": {},
     "output_type": "display_data"
    }
   ],
   "source": [
    "Riemannproper = MutableDenseNDimArray.zeros(4,4,4,4)\n",
    "evec= [exp(-rsh),sqrt(1-sha/r), 1/r, 1/(r*sin(th))]\n",
    "for i in range(4):\n",
    "    for j in range(4):\n",
    "        for k in range(4):\n",
    "            for l in range(4):\n",
    "                Riemannproper[i,j,k,l] = Riemann[i,j,k,l]*(1/evec[i])*evec[j]*evec[k]*evec[l]\n",
    "                #Riemannproper[i,j,k,l] = collect(Riemannproper[i,j,k,l],rsh)\n",
    "                Riemannproper[i,j,k,l] = simplify(Riemannproper[i,j,k,l])\n",
    "                if Riemannproper[i,j,k,l] != 0:\n",
    "                    display2Rp(Riemannproper[i,j,k,l],i,j,k,l)"
   ]
  },
  {
   "cell_type": "markdown",
   "id": "fdc52457-e59f-4509-9dff-1b17ce22c6d5",
   "metadata": {},
   "source": [
    "## Ricci Tensor in the proper frame metric"
   ]
  },
  {
   "cell_type": "code",
   "execution_count": 23,
   "id": "942be24b-e8f5-4775-891e-be1d9b7395cf",
   "metadata": {
    "tags": []
   },
   "outputs": [],
   "source": [
    "def riccicoef(Riemann,i,k):\n",
    "    Rc = 0\n",
    "    for j in range(4):\n",
    "        Rc += Riemann[j,i,j,k]\n",
    "    return Rc"
   ]
  },
  {
   "cell_type": "code",
   "execution_count": 27,
   "id": "c116780d-36ea-42b3-aa86-97a981df35bb",
   "metadata": {
    "tags": []
   },
   "outputs": [],
   "source": [
    "def display2Rc(res,i,k):\n",
    "    ii = coort[i]\n",
    "    kk = coort[k]\n",
    "    display(Eq(Symbol(r'R_{%s %s}' % (latex(ii),latex(kk))), res))\n",
    "    #print(r'R_{%s %s} = {%s}\\qquad' % (latex(ii), latex(kk), latex(res)))"
   ]
  },
  {
   "cell_type": "code",
   "execution_count": 25,
   "id": "03631248-0f0f-499f-bc10-6981cea9cf6e",
   "metadata": {
    "tags": []
   },
   "outputs": [],
   "source": [
    "def display2Rcf(res):\n",
    "    display(Eq(Symbol(r'R'), res))"
   ]
  },
  {
   "cell_type": "code",
   "execution_count": 28,
   "id": "aa3a5919-cafa-4b33-a865-3338cefd9242",
   "metadata": {
    "tags": []
   },
   "outputs": [
    {
     "data": {
      "text/latex": [
       "$\\displaystyle R_{\\tilde{t} \\tilde{t}} = \\frac{1.0 r \\left(r - \\sigma{\\left(r \\right)}\\right) \\left(\\left(\\frac{d}{d r} \\alpha{\\left(r \\right)}\\right)^{2} + \\frac{d^{2}}{d r^{2}} \\alpha{\\left(r \\right)}\\right) + 2.0 \\left(r - \\sigma{\\left(r \\right)}\\right) \\frac{d}{d r} \\alpha{\\left(r \\right)} - 0.5 \\left(r \\frac{d}{d r} \\sigma{\\left(r \\right)} - \\sigma{\\left(r \\right)}\\right) \\frac{d}{d r} \\alpha{\\left(r \\right)}}{r^{2}}$"
      ],
      "text/plain": [
       "Eq(R_{\\tilde{t} \\tilde{t}}, (1.0*r*(r - sigma(r))*(Derivative(alpha(r), r)**2 + Derivative(alpha(r), (r, 2))) + 2.0*(r - sigma(r))*Derivative(alpha(r), r) - 0.5*(r*Derivative(sigma(r), r) - sigma(r))*Derivative(alpha(r), r))/r**2)"
      ]
     },
     "metadata": {},
     "output_type": "display_data"
    },
    {
     "data": {
      "text/latex": [
       "$\\displaystyle R_{\\tilde{r} \\tilde{r}} = \\frac{r \\left(- 1.0 r \\left(r - \\sigma{\\left(r \\right)}\\right) \\left(\\left(\\frac{d}{d r} \\alpha{\\left(r \\right)}\\right)^{2} + \\frac{d^{2}}{d r^{2}} \\alpha{\\left(r \\right)}\\right) + 0.5 \\left(r \\frac{d}{d r} \\sigma{\\left(r \\right)} - \\sigma{\\left(r \\right)}\\right) \\frac{d}{d r} \\alpha{\\left(r \\right)}\\right) + 1.0 r \\frac{d}{d r} \\sigma{\\left(r \\right)} - 1.0 \\sigma{\\left(r \\right)}}{r^{3}}$"
      ],
      "text/plain": [
       "Eq(R_{\\tilde{r} \\tilde{r}}, (r*(-1.0*r*(r - sigma(r))*(Derivative(alpha(r), r)**2 + Derivative(alpha(r), (r, 2))) + 0.5*(r*Derivative(sigma(r), r) - sigma(r))*Derivative(alpha(r), r)) + 1.0*r*Derivative(sigma(r), r) - 1.0*sigma(r))/r**3)"
      ]
     },
     "metadata": {},
     "output_type": "display_data"
    },
    {
     "data": {
      "text/latex": [
       "$\\displaystyle R_{\\tilde{\\theta} \\tilde{\\theta}} = \\frac{- 1.0 r \\left(r - \\sigma{\\left(r \\right)}\\right) \\frac{d}{d r} \\alpha{\\left(r \\right)} + 0.5 r \\frac{d}{d r} \\sigma{\\left(r \\right)} + 0.5 \\sigma{\\left(r \\right)}}{r^{3}}$"
      ],
      "text/plain": [
       "Eq(R_{\\tilde{\\theta} \\tilde{\\theta}}, (-1.0*r*(r - sigma(r))*Derivative(alpha(r), r) + 0.5*r*Derivative(sigma(r), r) + 0.5*sigma(r))/r**3)"
      ]
     },
     "metadata": {},
     "output_type": "display_data"
    },
    {
     "data": {
      "text/latex": [
       "$\\displaystyle R_{\\tilde{\\varphi} \\tilde{\\varphi}} = \\frac{- 1.0 r \\left(r - \\sigma{\\left(r \\right)}\\right) \\frac{d}{d r} \\alpha{\\left(r \\right)} + 0.5 r \\frac{d}{d r} \\sigma{\\left(r \\right)} + 0.5 \\sigma{\\left(r \\right)}}{r^{3}}$"
      ],
      "text/plain": [
       "Eq(R_{\\tilde{\\varphi} \\tilde{\\varphi}}, (-1.0*r*(r - sigma(r))*Derivative(alpha(r), r) + 0.5*r*Derivative(sigma(r), r) + 0.5*sigma(r))/r**3)"
      ]
     },
     "metadata": {},
     "output_type": "display_data"
    }
   ],
   "source": [
    "Ricci = diag(0,0,0,0)\n",
    "for i in range(4):\n",
    "    for k in range(4):\n",
    "        Ricci[i,k] = riccicoef(Riemannproper,i,k)\n",
    "        Ricci[i,k] = simplify(Ricci[i,k])\n",
    "        if Ricci[i,k] != 0:\n",
    "            display2Rc(Ricci[i,k],i,k)\n",
    "#display(Ricci)"
   ]
  },
  {
   "cell_type": "code",
   "execution_count": 21,
   "id": "1b9fb5c0-ba59-41a5-9ea4-2e59e6894b64",
   "metadata": {
    "tags": []
   },
   "outputs": [],
   "source": [
    "def display2G(res,i,k):\n",
    "    ii = coort[i]\n",
    "    kk = coort[k]\n",
    "    display(Eq(Symbol(r'G_{%s %s}' % (latex(ii),latex(kk))), res))\n",
    "    #print(r'R_{%s %s} = {%s}\\qquad' % (latex(ii), latex(kk), latex(res)))"
   ]
  },
  {
   "cell_type": "code",
   "execution_count": 35,
   "id": "a17fbea8-29de-4377-a43d-8ce15efbcf18",
   "metadata": {
    "tags": []
   },
   "outputs": [
    {
     "data": {
      "text/latex": [
       "$\\displaystyle G_{\\tilde{t} \\tilde{t}} = \\frac{1.0 \\frac{d}{d r} \\sigma{\\left(r \\right)}}{r^{2}}$"
      ],
      "text/plain": [
       "Eq(G_{\\tilde{t} \\tilde{t}}, 1.0*Derivative(sigma(r), r)/r**2)"
      ]
     },
     "metadata": {},
     "output_type": "display_data"
    },
    {
     "data": {
      "text/latex": [
       "$\\displaystyle G_{\\tilde{r} \\tilde{r}} = \\frac{1.0 \\cdot \\left(2.0 r^{2} \\frac{d}{d r} \\alpha{\\left(r \\right)} - 2.0 r \\sigma{\\left(r \\right)} \\frac{d}{d r} \\alpha{\\left(r \\right)} - 1.0 \\sigma{\\left(r \\right)}\\right)}{r^{3}}$"
      ],
      "text/plain": [
       "Eq(G_{\\tilde{r} \\tilde{r}}, 1.0*(2.0*r**2*Derivative(alpha(r), r) - 2.0*r*sigma(r)*Derivative(alpha(r), r) - 1.0*sigma(r))/r**3)"
      ]
     },
     "metadata": {},
     "output_type": "display_data"
    },
    {
     "data": {
      "text/latex": [
       "$\\displaystyle G_{\\tilde{\\theta} \\tilde{\\theta}} = \\frac{- 1.0 r \\left(r - \\sigma{\\left(r \\right)}\\right) \\frac{d}{d r} \\alpha{\\left(r \\right)} + r \\left(1.0 r \\left(r - \\sigma{\\left(r \\right)}\\right) \\left(\\left(\\frac{d}{d r} \\alpha{\\left(r \\right)}\\right)^{2} + \\frac{d^{2}}{d r^{2}} \\alpha{\\left(r \\right)}\\right) + 2.0 \\left(r - \\sigma{\\left(r \\right)}\\right) \\frac{d}{d r} \\alpha{\\left(r \\right)} - 0.5 \\left(r \\frac{d}{d r} \\sigma{\\left(r \\right)} - \\sigma{\\left(r \\right)}\\right) \\frac{d}{d r} \\alpha{\\left(r \\right)} - 1.0 \\frac{d}{d r} \\sigma{\\left(r \\right)}\\right) + 0.5 r \\frac{d}{d r} \\sigma{\\left(r \\right)} + 0.5 \\sigma{\\left(r \\right)}}{r^{3}}$"
      ],
      "text/plain": [
       "Eq(G_{\\tilde{\\theta} \\tilde{\\theta}}, (-1.0*r*(r - sigma(r))*Derivative(alpha(r), r) + r*(1.0*r*(r - sigma(r))*(Derivative(alpha(r), r)**2 + Derivative(alpha(r), (r, 2))) + 2.0*(r - sigma(r))*Derivative(alpha(r), r) - 0.5*(r*Derivative(sigma(r), r) - sigma(r))*Derivative(alpha(r), r) - 1.0*Derivative(sigma(r), r)) + 0.5*r*Derivative(sigma(r), r) + 0.5*sigma(r))/r**3)"
      ]
     },
     "metadata": {},
     "output_type": "display_data"
    },
    {
     "data": {
      "text/latex": [
       "$\\displaystyle G_{\\tilde{\\varphi} \\tilde{\\varphi}} = \\frac{- 1.0 r \\left(r - \\sigma{\\left(r \\right)}\\right) \\frac{d}{d r} \\alpha{\\left(r \\right)} + r \\left(1.0 r \\left(r - \\sigma{\\left(r \\right)}\\right) \\left(\\left(\\frac{d}{d r} \\alpha{\\left(r \\right)}\\right)^{2} + \\frac{d^{2}}{d r^{2}} \\alpha{\\left(r \\right)}\\right) + 2.0 \\left(r - \\sigma{\\left(r \\right)}\\right) \\frac{d}{d r} \\alpha{\\left(r \\right)} - 0.5 \\left(r \\frac{d}{d r} \\sigma{\\left(r \\right)} - \\sigma{\\left(r \\right)}\\right) \\frac{d}{d r} \\alpha{\\left(r \\right)} - 1.0 \\frac{d}{d r} \\sigma{\\left(r \\right)}\\right) + 0.5 r \\frac{d}{d r} \\sigma{\\left(r \\right)} + 0.5 \\sigma{\\left(r \\right)}}{r^{3}}$"
      ],
      "text/plain": [
       "Eq(G_{\\tilde{\\varphi} \\tilde{\\varphi}}, (-1.0*r*(r - sigma(r))*Derivative(alpha(r), r) + r*(1.0*r*(r - sigma(r))*(Derivative(alpha(r), r)**2 + Derivative(alpha(r), (r, 2))) + 2.0*(r - sigma(r))*Derivative(alpha(r), r) - 0.5*(r*Derivative(sigma(r), r) - sigma(r))*Derivative(alpha(r), r) - 1.0*Derivative(sigma(r), r)) + 0.5*r*Derivative(sigma(r), r) + 0.5*sigma(r))/r**3)"
      ]
     },
     "metadata": {},
     "output_type": "display_data"
    }
   ],
   "source": [
    "G = diag(0,0,0,0)\n",
    "for i in range(4):\n",
    "    G[i,i] = Ricci[i,i]-0.5*Res*mink[i,i]\n",
    "    if i == 2 or i == 3:\n",
    "        #G[i,i] = collect(G[i,i],r)\n",
    "        G[i,i] = simplify(G[i,i])\n",
    "    else:\n",
    "        G[i,i] = simplify(G[i,i])\n",
    "    display2G(G[i,i],i,i)"
   ]
  }
 ],
 "metadata": {
  "kernelspec": {
   "display_name": "Python 3 (ipykernel)",
   "language": "python",
   "name": "python3"
  },
  "language_info": {
   "codemirror_mode": {
    "name": "ipython",
    "version": 3
   },
   "file_extension": ".py",
   "mimetype": "text/x-python",
   "name": "python",
   "nbconvert_exporter": "python",
   "pygments_lexer": "ipython3",
   "version": "3.11.5"
  }
 },
 "nbformat": 4,
 "nbformat_minor": 5
}
