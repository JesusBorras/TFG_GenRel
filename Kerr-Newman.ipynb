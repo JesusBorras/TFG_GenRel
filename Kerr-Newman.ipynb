{
 "cells": [
  {
   "cell_type": "markdown",
   "id": "09254f9f-972c-4c55-9b6f-ab6df46e7bf3",
   "metadata": {},
   "source": [
    "# Kerr-Newman geometry\n",
    "## Jesús Borrás"
   ]
  },
  {
   "cell_type": "code",
   "execution_count": 1,
   "id": "0ff53e83-d578-4304-91d5-e0069ff2fbef",
   "metadata": {
    "tags": []
   },
   "outputs": [],
   "source": [
    "import sympy as smp\n",
    "import numpy as np\n",
    "import matplotlib.pyplot as plt"
   ]
  },
  {
   "cell_type": "markdown",
   "id": "f2d87198-14c3-42f6-9adf-b17d3f6fa797",
   "metadata": {},
   "source": [
    "**Variable declaration**"
   ]
  },
  {
   "cell_type": "code",
   "execution_count": 2,
   "id": "37017f62-6151-4a96-b28f-38e51578d90c",
   "metadata": {
    "tags": []
   },
   "outputs": [],
   "source": [
    "r, a, th, eps, M = smp.symbols('r a theta epsilon M', real='True')"
   ]
  },
  {
   "cell_type": "markdown",
   "id": "4606154b-2432-47f9-aef7-19261326127d",
   "metadata": {},
   "source": [
    "**Null vectors tetrad**"
   ]
  },
  {
   "cell_type": "markdown",
   "id": "85945a8a-0378-4e4a-bc7b-07c6a3ba9124",
   "metadata": {},
   "source": [
    "1) $l^{\\mu}=\\delta_{1}^{\\mu}$\n",
    "2) $n^{\\mu}=-\\delta^{\\mu}_{0}-\\frac{r^2-2Mr+(a^2\\cos^2\\vartheta+\\epsilon^2)}{2R^2}\\delta_{1}^{\\mu}$\n",
    "3) $m^{\\mu}=\\frac{1}{\\sqrt{2}(r+ia\\cos\\vartheta)}(ia\\sin\\vartheta(\\delta_0^{\\mu}-\\delta_1^{\\mu})+\\delta_{2}^{\\mu}+i\\csc\\vartheta\\delta_3^{\\mu})$"
   ]
  },
  {
   "cell_type": "code",
   "execution_count": 3,
   "id": "e084250b-6a82-4f1c-a822-493d8ae56d35",
   "metadata": {
    "tags": []
   },
   "outputs": [
    {
     "data": {
      "text/latex": [
       "$\\displaystyle \\left[\\begin{matrix}0\\\\1\\\\0\\\\0\\end{matrix}\\right]$"
      ],
      "text/plain": [
       "Matrix([\n",
       "[0],\n",
       "[1],\n",
       "[0],\n",
       "[0]])"
      ]
     },
     "execution_count": 3,
     "metadata": {},
     "output_type": "execute_result"
    }
   ],
   "source": [
    "l = smp.Matrix([0,1,0,0])\n",
    "l"
   ]
  },
  {
   "cell_type": "code",
   "execution_count": 4,
   "id": "2ee8b68d-64ca-404f-a376-d52210668234",
   "metadata": {
    "tags": []
   },
   "outputs": [
    {
     "data": {
      "text/latex": [
       "$\\displaystyle \\left[\\begin{matrix}-1\\\\\\frac{2 M r - a^{2} \\cos^{2}{\\left(\\theta \\right)} - \\epsilon^{2} - r^{2}}{2 a^{2} \\cos^{2}{\\left(\\theta \\right)} + 2 r^{2}}\\\\0\\\\0\\end{matrix}\\right]$"
      ],
      "text/plain": [
       "Matrix([\n",
       "[                                                                              -1],\n",
       "[(2*M*r - a**2*cos(theta)**2 - epsilon**2 - r**2)/(2*a**2*cos(theta)**2 + 2*r**2)],\n",
       "[                                                                               0],\n",
       "[                                                                               0]])"
      ]
     },
     "execution_count": 4,
     "metadata": {},
     "output_type": "execute_result"
    }
   ],
   "source": [
    "n = smp.Matrix([-1,-(r**2-2*M*r+(a**2*smp.cos(th)**2+eps**2))/(2*(r**2+a**2*smp.cos(th)**2)),0,0])\n",
    "n"
   ]
  },
  {
   "cell_type": "code",
   "execution_count": 5,
   "id": "f09df076-e301-41c2-8cae-7c4cbdd2ca14",
   "metadata": {
    "tags": []
   },
   "outputs": [
    {
     "data": {
      "text/latex": [
       "$\\displaystyle \\left[\\begin{matrix}\\frac{\\sqrt{2} i a \\sin{\\left(\\theta \\right)}}{2 \\left(i a \\cos{\\left(\\theta \\right)} + r\\right)}\\\\\\frac{\\sqrt{2} i a \\sin{\\left(\\theta \\right)}}{2 \\left(i a \\cos{\\left(\\theta \\right)} + r\\right)}\\\\\\frac{\\sqrt{2}}{2 \\left(i a \\cos{\\left(\\theta \\right)} + r\\right)}\\\\\\frac{\\sqrt{2} i}{2 \\left(i a \\cos{\\left(\\theta \\right)} + r\\right) \\sin{\\left(\\theta \\right)}}\\end{matrix}\\right]$"
      ],
      "text/plain": [
       "Matrix([\n",
       "[sqrt(2)*I*a*sin(theta)/(2*(I*a*cos(theta) + r))],\n",
       "[sqrt(2)*I*a*sin(theta)/(2*(I*a*cos(theta) + r))],\n",
       "[               sqrt(2)/(2*(I*a*cos(theta) + r))],\n",
       "[  sqrt(2)*I/(2*(I*a*cos(theta) + r)*sin(theta))]])"
      ]
     },
     "execution_count": 5,
     "metadata": {},
     "output_type": "execute_result"
    }
   ],
   "source": [
    "m = (smp.sqrt(2)*(r+smp.I*a*smp.cos(th)))**(-1)*smp.Matrix([smp.I*a*smp.sin(th),smp.I*a*smp.sin(th),1,smp.I/smp.sin(th)])\n",
    "m"
   ]
  },
  {
   "cell_type": "code",
   "execution_count": 6,
   "id": "ec15d207-816f-419b-9148-fd326b3edfbc",
   "metadata": {
    "tags": []
   },
   "outputs": [
    {
     "data": {
      "text/latex": [
       "$\\displaystyle \\left[\\begin{matrix}- \\frac{\\sqrt{2} i a \\sin{\\left(\\theta \\right)}}{2 \\left(- i a \\cos{\\left(\\theta \\right)} + r\\right)}\\\\- \\frac{\\sqrt{2} i a \\sin{\\left(\\theta \\right)}}{2 \\left(- i a \\cos{\\left(\\theta \\right)} + r\\right)}\\\\\\frac{\\sqrt{2}}{2 \\left(- i a \\cos{\\left(\\theta \\right)} + r\\right)}\\\\- \\frac{\\sqrt{2} i}{2 \\left(- i a \\cos{\\left(\\theta \\right)} + r\\right) \\sin{\\left(\\theta \\right)}}\\end{matrix}\\right]$"
      ],
      "text/plain": [
       "Matrix([\n",
       "[-sqrt(2)*I*a*sin(theta)/(2*(-I*a*cos(theta) + r))],\n",
       "[-sqrt(2)*I*a*sin(theta)/(2*(-I*a*cos(theta) + r))],\n",
       "[                sqrt(2)/(2*(-I*a*cos(theta) + r))],\n",
       "[  -sqrt(2)*I/(2*(-I*a*cos(theta) + r)*sin(theta))]])"
      ]
     },
     "execution_count": 6,
     "metadata": {},
     "output_type": "execute_result"
    }
   ],
   "source": [
    "mn = smp.conjugate(m)\n",
    "mn"
   ]
  },
  {
   "cell_type": "code",
   "execution_count": 7,
   "id": "46c8b723-5df3-4582-9fef-b109b046d624",
   "metadata": {
    "tags": []
   },
   "outputs": [],
   "source": [
    "def pv(v1,v2):\n",
    "    v2=v2.T\n",
    "    prod=v1*v2    \n",
    "    return prod"
   ]
  },
  {
   "cell_type": "code",
   "execution_count": 8,
   "id": "70fa82fb-5e99-4fc4-b5a8-82e0e56899bc",
   "metadata": {
    "tags": []
   },
   "outputs": [],
   "source": [
    "def matrix_build(Tetrad):\n",
    "    l = Tetrad[0,:]\n",
    "    n = Tetrad[1,:]\n",
    "    m = Tetrad[2,:]\n",
    "    mn = Tetrad[3,:]\n",
    "    inv_metric = smp.eye(4)\n",
    "    for i in range(4):\n",
    "        for j in range(4):\n",
    "            inv_metric[i,j]=-(l[i]*n[j]+l[j]*n[i])+(m[i]*mn[j]+m[j]*mn[i])\n",
    "    return inv_metric"
   ]
  },
  {
   "cell_type": "code",
   "execution_count": 9,
   "id": "7ab8d1ec-de75-4346-997d-3d186bc22c92",
   "metadata": {
    "tags": []
   },
   "outputs": [
    {
     "data": {
      "text/latex": [
       "$\\displaystyle \\left[\\begin{matrix}0 & 1 & 0 & 0\\\\-1 & \\frac{2 M r - a^{2} \\cos^{2}{\\left(\\theta \\right)} - \\epsilon^{2} - r^{2}}{2 a^{2} \\cos^{2}{\\left(\\theta \\right)} + 2 r^{2}} & 0 & 0\\\\\\frac{\\sqrt{2} i a \\sin{\\left(\\theta \\right)}}{2 \\left(i a \\cos{\\left(\\theta \\right)} + r\\right)} & \\frac{\\sqrt{2} i a \\sin{\\left(\\theta \\right)}}{2 \\left(i a \\cos{\\left(\\theta \\right)} + r\\right)} & \\frac{\\sqrt{2}}{2 \\left(i a \\cos{\\left(\\theta \\right)} + r\\right)} & \\frac{\\sqrt{2} i}{2 \\left(i a \\cos{\\left(\\theta \\right)} + r\\right) \\sin{\\left(\\theta \\right)}}\\\\- \\frac{\\sqrt{2} i a \\sin{\\left(\\theta \\right)}}{2 \\left(- i a \\cos{\\left(\\theta \\right)} + r\\right)} & - \\frac{\\sqrt{2} i a \\sin{\\left(\\theta \\right)}}{2 \\left(- i a \\cos{\\left(\\theta \\right)} + r\\right)} & \\frac{\\sqrt{2}}{2 \\left(- i a \\cos{\\left(\\theta \\right)} + r\\right)} & - \\frac{\\sqrt{2} i}{2 \\left(- i a \\cos{\\left(\\theta \\right)} + r\\right) \\sin{\\left(\\theta \\right)}}\\end{matrix}\\right]$"
      ],
      "text/plain": [
       "Matrix([\n",
       "[                                                0,                                                                                1,                                 0,                                               0],\n",
       "[                                               -1, (2*M*r - a**2*cos(theta)**2 - epsilon**2 - r**2)/(2*a**2*cos(theta)**2 + 2*r**2),                                 0,                                               0],\n",
       "[  sqrt(2)*I*a*sin(theta)/(2*(I*a*cos(theta) + r)),                                  sqrt(2)*I*a*sin(theta)/(2*(I*a*cos(theta) + r)),  sqrt(2)/(2*(I*a*cos(theta) + r)),   sqrt(2)*I/(2*(I*a*cos(theta) + r)*sin(theta))],\n",
       "[-sqrt(2)*I*a*sin(theta)/(2*(-I*a*cos(theta) + r)),                                -sqrt(2)*I*a*sin(theta)/(2*(-I*a*cos(theta) + r)), sqrt(2)/(2*(-I*a*cos(theta) + r)), -sqrt(2)*I/(2*(-I*a*cos(theta) + r)*sin(theta))]])"
      ]
     },
     "execution_count": 9,
     "metadata": {},
     "output_type": "execute_result"
    }
   ],
   "source": [
    "Tetrad = smp.Matrix([l.T, n.T, m.T, mn.T])\n",
    "Tetrad"
   ]
  },
  {
   "cell_type": "code",
   "execution_count": 10,
   "id": "1309c2ac-dc64-46f1-b01a-527335e3b6b9",
   "metadata": {
    "tags": []
   },
   "outputs": [
    {
     "data": {
      "text/latex": [
       "$\\displaystyle \\left[\\begin{matrix}\\frac{a^{2} \\sin^{2}{\\left(\\theta \\right)}}{\\left(- i a \\cos{\\left(\\theta \\right)} + r\\right) \\left(i a \\cos{\\left(\\theta \\right)} + r\\right)} & \\frac{a^{2} \\sin^{2}{\\left(\\theta \\right)}}{\\left(- i a \\cos{\\left(\\theta \\right)} + r\\right) \\left(i a \\cos{\\left(\\theta \\right)} + r\\right)} + 1 & 0 & \\frac{a}{\\left(- i a \\cos{\\left(\\theta \\right)} + r\\right) \\left(i a \\cos{\\left(\\theta \\right)} + r\\right)}\\\\\\frac{a^{2} \\sin^{2}{\\left(\\theta \\right)}}{\\left(- i a \\cos{\\left(\\theta \\right)} + r\\right) \\left(i a \\cos{\\left(\\theta \\right)} + r\\right)} + 1 & \\frac{a^{2} \\sin^{2}{\\left(\\theta \\right)}}{\\left(- i a \\cos{\\left(\\theta \\right)} + r\\right) \\left(i a \\cos{\\left(\\theta \\right)} + r\\right)} - \\frac{2 \\cdot \\left(2 M r - a^{2} \\cos^{2}{\\left(\\theta \\right)} - \\epsilon^{2} - r^{2}\\right)}{2 a^{2} \\cos^{2}{\\left(\\theta \\right)} + 2 r^{2}} & 0 & \\frac{a}{\\left(- i a \\cos{\\left(\\theta \\right)} + r\\right) \\left(i a \\cos{\\left(\\theta \\right)} + r\\right)}\\\\0 & 0 & \\frac{1}{\\left(- i a \\cos{\\left(\\theta \\right)} + r\\right) \\left(i a \\cos{\\left(\\theta \\right)} + r\\right)} & 0\\\\\\frac{a}{\\left(- i a \\cos{\\left(\\theta \\right)} + r\\right) \\left(i a \\cos{\\left(\\theta \\right)} + r\\right)} & \\frac{a}{\\left(- i a \\cos{\\left(\\theta \\right)} + r\\right) \\left(i a \\cos{\\left(\\theta \\right)} + r\\right)} & 0 & \\frac{1}{\\left(- i a \\cos{\\left(\\theta \\right)} + r\\right) \\left(i a \\cos{\\left(\\theta \\right)} + r\\right) \\sin^{2}{\\left(\\theta \\right)}}\\end{matrix}\\right]$"
      ],
      "text/plain": [
       "Matrix([\n",
       "[    a**2*sin(theta)**2/((-I*a*cos(theta) + r)*(I*a*cos(theta) + r)),                                                                                  a**2*sin(theta)**2/((-I*a*cos(theta) + r)*(I*a*cos(theta) + r)) + 1,                                              0,               a/((-I*a*cos(theta) + r)*(I*a*cos(theta) + r))],\n",
       "[a**2*sin(theta)**2/((-I*a*cos(theta) + r)*(I*a*cos(theta) + r)) + 1, a**2*sin(theta)**2/((-I*a*cos(theta) + r)*(I*a*cos(theta) + r)) - 2*(2*M*r - a**2*cos(theta)**2 - epsilon**2 - r**2)/(2*a**2*cos(theta)**2 + 2*r**2),                                              0,               a/((-I*a*cos(theta) + r)*(I*a*cos(theta) + r))],\n",
       "[                                                                  0,                                                                                                                                                    0, 1/((-I*a*cos(theta) + r)*(I*a*cos(theta) + r)),                                                            0],\n",
       "[                     a/((-I*a*cos(theta) + r)*(I*a*cos(theta) + r)),                                                                                                       a/((-I*a*cos(theta) + r)*(I*a*cos(theta) + r)),                                              0, 1/((-I*a*cos(theta) + r)*(I*a*cos(theta) + r)*sin(theta)**2)]])"
      ]
     },
     "execution_count": 10,
     "metadata": {},
     "output_type": "execute_result"
    }
   ],
   "source": [
    "ginv = matrix_build(Tetrad)\n",
    "ginv"
   ]
  },
  {
   "cell_type": "code",
   "execution_count": 11,
   "id": "353303f4-2681-485c-9027-161d636683e7",
   "metadata": {
    "tags": []
   },
   "outputs": [
    {
     "data": {
      "text/latex": [
       "$\\displaystyle - \\frac{1}{\\left(- i a \\cos{\\left(\\theta \\right)} + r\\right) \\left(i a \\cos{\\left(\\theta \\right)} + r\\right) \\left(a^{2} \\sin^{2}{\\left(\\theta \\right)} \\cos^{2}{\\left(\\theta \\right)} + r^{2} \\sin^{2}{\\left(\\theta \\right)}\\right)}$"
      ],
      "text/plain": [
       "-1/((-I*a*cos(theta) + r)*(I*a*cos(theta) + r)*(a**2*sin(theta)**2*cos(theta)**2 + r**2*sin(theta)**2))"
      ]
     },
     "execution_count": 11,
     "metadata": {},
     "output_type": "execute_result"
    }
   ],
   "source": [
    "ginv.det()"
   ]
  },
  {
   "cell_type": "code",
   "execution_count": 12,
   "id": "485f39f7-fade-41b1-9a56-4026540accc1",
   "metadata": {
    "tags": []
   },
   "outputs": [
    {
     "data": {
      "text/latex": [
       "$\\displaystyle \\left[\\begin{matrix}\\frac{- 2 M r + a^{2} \\cos^{2}{\\left(\\theta \\right)} + \\epsilon^{2} + r^{2}}{a^{6} \\sin^{2}{\\left(\\theta \\right)} \\cos^{6}{\\left(\\theta \\right)} + 3 a^{4} r^{2} \\sin^{2}{\\left(\\theta \\right)} \\cos^{4}{\\left(\\theta \\right)} + 3 a^{2} r^{4} \\sin^{2}{\\left(\\theta \\right)} \\cos^{2}{\\left(\\theta \\right)} + r^{6} \\sin^{2}{\\left(\\theta \\right)}} & - \\frac{1}{a^{4} \\sin^{2}{\\left(\\theta \\right)} \\cos^{4}{\\left(\\theta \\right)} + 2 a^{2} r^{2} \\sin^{2}{\\left(\\theta \\right)} \\cos^{2}{\\left(\\theta \\right)} + r^{4} \\sin^{2}{\\left(\\theta \\right)}} & 0 & - \\frac{- 2 M a r + a \\epsilon^{2}}{a^{6} \\cos^{6}{\\left(\\theta \\right)} + 3 a^{4} r^{2} \\cos^{4}{\\left(\\theta \\right)} + 3 a^{2} r^{4} \\cos^{2}{\\left(\\theta \\right)} + r^{6}}\\\\- \\frac{1}{a^{4} \\sin^{2}{\\left(\\theta \\right)} \\cos^{4}{\\left(\\theta \\right)} + 2 a^{2} r^{2} \\sin^{2}{\\left(\\theta \\right)} \\cos^{2}{\\left(\\theta \\right)} + r^{4} \\sin^{2}{\\left(\\theta \\right)}} & 0 & 0 & \\frac{a}{a^{4} \\cos^{4}{\\left(\\theta \\right)} + 2 a^{2} r^{2} \\cos^{2}{\\left(\\theta \\right)} + r^{4}}\\\\0 & 0 & - \\frac{1}{a^{2} \\sin^{2}{\\left(\\theta \\right)} \\cos^{2}{\\left(\\theta \\right)} + r^{2} \\sin^{2}{\\left(\\theta \\right)}} & 0\\\\- \\frac{- 2 M a r + a \\epsilon^{2}}{a^{6} \\cos^{6}{\\left(\\theta \\right)} + 3 a^{4} r^{2} \\cos^{4}{\\left(\\theta \\right)} + 3 a^{2} r^{4} \\cos^{2}{\\left(\\theta \\right)} + r^{6}} & \\frac{a}{a^{4} \\cos^{4}{\\left(\\theta \\right)} + 2 a^{2} r^{2} \\cos^{2}{\\left(\\theta \\right)} + r^{4}} & 0 & \\frac{- 2 M a^{2} r \\sin^{2}{\\left(\\theta \\right)} - a^{4} \\sin^{2}{\\left(\\theta \\right)} \\cos^{2}{\\left(\\theta \\right)} - a^{4} \\cos^{4}{\\left(\\theta \\right)} + a^{2} \\epsilon^{2} \\sin^{2}{\\left(\\theta \\right)} - a^{2} r^{2} \\sin^{2}{\\left(\\theta \\right)} - 2 a^{2} r^{2} \\cos^{2}{\\left(\\theta \\right)} - r^{4}}{a^{6} \\cos^{6}{\\left(\\theta \\right)} + 3 a^{4} r^{2} \\cos^{4}{\\left(\\theta \\right)} + 3 a^{2} r^{4} \\cos^{2}{\\left(\\theta \\right)} + r^{6}}\\end{matrix}\\right]$"
      ],
      "text/plain": [
       "Matrix([\n",
       "[(-2*M*r + a**2*cos(theta)**2 + epsilon**2 + r**2)/(a**6*sin(theta)**2*cos(theta)**6 + 3*a**4*r**2*sin(theta)**2*cos(theta)**4 + 3*a**2*r**4*sin(theta)**2*cos(theta)**2 + r**6*sin(theta)**2), -1/(a**4*sin(theta)**2*cos(theta)**4 + 2*a**2*r**2*sin(theta)**2*cos(theta)**2 + r**4*sin(theta)**2),                                                          0,                                                                                                                                                       -(-2*M*a*r + a*epsilon**2)/(a**6*cos(theta)**6 + 3*a**4*r**2*cos(theta)**4 + 3*a**2*r**4*cos(theta)**2 + r**6)],\n",
       "[                                                                                         -1/(a**4*sin(theta)**2*cos(theta)**4 + 2*a**2*r**2*sin(theta)**2*cos(theta)**2 + r**4*sin(theta)**2),                                                                                                    0,                                                          0,                                                                                                                                                                                                            a/(a**4*cos(theta)**4 + 2*a**2*r**2*cos(theta)**2 + r**4)],\n",
       "[                                                                                                                                                                                            0,                                                                                                    0, -1/(a**2*sin(theta)**2*cos(theta)**2 + r**2*sin(theta)**2),                                                                                                                                                                                                                                                                    0],\n",
       "[                                                                               -(-2*M*a*r + a*epsilon**2)/(a**6*cos(theta)**6 + 3*a**4*r**2*cos(theta)**4 + 3*a**2*r**4*cos(theta)**2 + r**6),                                            a/(a**4*cos(theta)**4 + 2*a**2*r**2*cos(theta)**2 + r**4),                                                          0, (-2*M*a**2*r*sin(theta)**2 - a**4*sin(theta)**2*cos(theta)**2 - a**4*cos(theta)**4 + a**2*epsilon**2*sin(theta)**2 - a**2*r**2*sin(theta)**2 - 2*a**2*r**2*cos(theta)**2 - r**4)/(a**6*cos(theta)**6 + 3*a**4*r**2*cos(theta)**4 + 3*a**2*r**4*cos(theta)**2 + r**6)]])"
      ]
     },
     "execution_count": 12,
     "metadata": {},
     "output_type": "execute_result"
    }
   ],
   "source": [
    " ginv.adjugate()"
   ]
  },
  {
   "cell_type": "code",
   "execution_count": 13,
   "id": "41ef7777-6743-471f-8031-ed1517391bfa",
   "metadata": {},
   "outputs": [
    {
     "data": {
      "text/latex": [
       "$\\displaystyle \\left[\\begin{matrix}\\frac{2 M r - a^{2} \\cos^{2}{\\left(\\theta \\right)} - \\epsilon^{2} - r^{2}}{a^{2} \\cos^{2}{\\left(\\theta \\right)} + r^{2}} & 1 & 0 & \\frac{- 2 M a r \\sin^{2}{\\left(\\theta \\right)} + a \\epsilon^{2} \\sin^{2}{\\left(\\theta \\right)}}{a^{2} \\cos^{2}{\\left(\\theta \\right)} + r^{2}}\\\\1 & 0 & 0 & - a \\sin^{2}{\\left(\\theta \\right)}\\\\0 & 0 & a^{2} \\cos^{2}{\\left(\\theta \\right)} + r^{2} & 0\\\\\\frac{- 2 M a r \\sin^{2}{\\left(\\theta \\right)} + a \\epsilon^{2} \\sin^{2}{\\left(\\theta \\right)}}{a^{2} \\cos^{2}{\\left(\\theta \\right)} + r^{2}} & - a \\sin^{2}{\\left(\\theta \\right)} & 0 & \\frac{2 M a^{2} r \\sin^{4}{\\left(\\theta \\right)} + a^{4} \\sin^{4}{\\left(\\theta \\right)} \\cos^{2}{\\left(\\theta \\right)} + a^{4} \\sin^{2}{\\left(\\theta \\right)} \\cos^{4}{\\left(\\theta \\right)} - a^{2} \\epsilon^{2} \\sin^{4}{\\left(\\theta \\right)} + a^{2} r^{2} \\sin^{4}{\\left(\\theta \\right)} + 2 a^{2} r^{2} \\sin^{2}{\\left(\\theta \\right)} \\cos^{2}{\\left(\\theta \\right)} + r^{4} \\sin^{2}{\\left(\\theta \\right)}}{a^{2} \\cos^{2}{\\left(\\theta \\right)} + r^{2}}\\end{matrix}\\right]$"
      ],
      "text/plain": [
       "Matrix([\n",
       "[     (2*M*r - a**2*cos(theta)**2 - epsilon**2 - r**2)/(a**2*cos(theta)**2 + r**2),                1,                         0,                                                                                                                                                                     (-2*M*a*r*sin(theta)**2 + a*epsilon**2*sin(theta)**2)/(a**2*cos(theta)**2 + r**2)],\n",
       "[                                                                                1,                0,                         0,                                                                                                                                                                                                                                      -a*sin(theta)**2],\n",
       "[                                                                                0,                0, a**2*cos(theta)**2 + r**2,                                                                                                                                                                                                                                                     0],\n",
       "[(-2*M*a*r*sin(theta)**2 + a*epsilon**2*sin(theta)**2)/(a**2*cos(theta)**2 + r**2), -a*sin(theta)**2,                         0, (2*M*a**2*r*sin(theta)**4 + a**4*sin(theta)**4*cos(theta)**2 + a**4*sin(theta)**2*cos(theta)**4 - a**2*epsilon**2*sin(theta)**4 + a**2*r**2*sin(theta)**4 + 2*a**2*r**2*sin(theta)**2*cos(theta)**2 + r**4*sin(theta)**2)/(a**2*cos(theta)**2 + r**2)]])"
      ]
     },
     "execution_count": 13,
     "metadata": {},
     "output_type": "execute_result"
    }
   ],
   "source": [
    "ginv.inv()"
   ]
  }
 ],
 "metadata": {
  "kernelspec": {
   "display_name": "Python 3 (ipykernel)",
   "language": "python",
   "name": "python3"
  },
  "language_info": {
   "codemirror_mode": {
    "name": "ipython",
    "version": 3
   },
   "file_extension": ".py",
   "mimetype": "text/x-python",
   "name": "python",
   "nbconvert_exporter": "python",
   "pygments_lexer": "ipython3",
   "version": "3.11.5"
  }
 },
 "nbformat": 4,
 "nbformat_minor": 5
}
