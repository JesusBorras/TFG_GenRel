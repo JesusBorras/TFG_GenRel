{
 "cells": [
  {
   "cell_type": "markdown",
   "id": "432a4251-6b24-44b8-b59c-48dbf3472d26",
   "metadata": {},
   "source": [
    "# Preliminar Reissner-Nodstrom spacetime\n",
    "## Jesús Borrás"
   ]
  },
  {
   "cell_type": "code",
   "execution_count": 2,
   "id": "c5261446-5cab-4f0a-a7f6-0858814f827d",
   "metadata": {
    "tags": []
   },
   "outputs": [],
   "source": [
    "from sympy import *"
   ]
  },
  {
   "cell_type": "code",
   "execution_count": 53,
   "id": "74543a2a-c871-4676-8d97-8ecb55609394",
   "metadata": {
    "tags": []
   },
   "outputs": [
    {
     "data": {
      "text/latex": [
       "$\\displaystyle \\left[\\begin{matrix}- e^{\\nu{\\left(r \\right)}} & 0 & 0 & 0\\\\0 & e^{\\mu{\\left(r \\right)}} & 0 & 0\\\\0 & 0 & r^{2} & 0\\\\0 & 0 & 0 & r^{2} \\sin^{2}{\\left(\\theta \\right)}\\end{matrix}\\right]$"
      ],
      "text/plain": [
       "Matrix([\n",
       "[-exp(nu(r)),          0,    0,                  0],\n",
       "[          0, exp(mu(r)),    0,                  0],\n",
       "[          0,          0, r**2,                  0],\n",
       "[          0,          0,    0, r**2*sin(theta)**2]])"
      ]
     },
     "execution_count": 53,
     "metadata": {},
     "output_type": "execute_result"
    }
   ],
   "source": [
    "t, r, th, ph, M, E = symbols('t r theta varphi M E')\n",
    "mu, nu, E = symbols('mu nu E', cls=Function)\n",
    "nu = nu(r)\n",
    "mu = mu(r)\n",
    "E = E(r)\n",
    "coor = [t,r,th,ph]\n",
    "g = diag(-exp(nu),exp(mu),r**2,sin(th)**2*r**2)\n",
    "gi = g.inv()\n",
    "g"
   ]
  },
  {
   "cell_type": "markdown",
   "id": "5c7ffa1e-993f-4142-9f4e-ac7e22b83388",
   "metadata": {},
   "source": [
    "## Christoffel symbols"
   ]
  },
  {
   "cell_type": "code",
   "execution_count": 6,
   "id": "8fda0061-2026-48c6-a10e-e125f2ec42ae",
   "metadata": {
    "tags": []
   },
   "outputs": [],
   "source": [
    "def christcoef(g,gi,i,j,k):\n",
    "    G = 0\n",
    "    for l in range(4):\n",
    "        G += .5*gi[i,l]*(dg(g,l,j,k)+ dg(g,l,k,j)- dg(g,j,k,l))\n",
    "    return G"
   ]
  },
  {
   "cell_type": "code",
   "execution_count": 7,
   "id": "c8d2610b-3105-4c6d-bdd6-72e63cca88e2",
   "metadata": {
    "tags": []
   },
   "outputs": [],
   "source": [
    "def dg(g,i,j,k):\n",
    "    return diff(g[i,j],coor[k])"
   ]
  },
  {
   "cell_type": "code",
   "execution_count": 39,
   "id": "a43da16f-0f79-49b1-9afa-b29844a14e88",
   "metadata": {
    "tags": []
   },
   "outputs": [],
   "source": [
    "def display2(res,i,j,k):\n",
    "    ii = coor[i]\n",
    "    jj = coor[j]\n",
    "    kk = coor[k]\n",
    "    display(Eq(Symbol(r'\\Gamma^{%s}_{%s %s}' % (latex(ii), latex(jj), latex(kk))), res))\n",
    "    #print(r'\\Gamma^{%s}_{%s %s} = {%s}\\qquad' % (latex(ii), latex(jj), latex(kk), latex(res)))"
   ]
  },
  {
   "cell_type": "code",
   "execution_count": 35,
   "id": "0ff387f6-0b39-4918-be24-d335f8706be1",
   "metadata": {
    "tags": []
   },
   "outputs": [],
   "source": [
    "def displayless(res,i,j,k):\n",
    "    ii = coor[i]\n",
    "    jj = coor[j]\n",
    "    kk = coor[k]\n",
    "    if j == 0:\n",
    "        display2(res,i,j,k)\n",
    "    if j == 1:\n",
    "        if k == 0: None\n",
    "        else: \n",
    "            display2(res,i,j,k)\n",
    "    if j == 2:\n",
    "        if k == 0 or k == 1: None\n",
    "        else: \n",
    "            display2(res,i,j,k)\n",
    "    if j == 3:\n",
    "        if k == 0 or k == 1 or k == 2: None\n",
    "        else: \n",
    "            display2(res,i,j,k)"
   ]
  },
  {
   "cell_type": "code",
   "execution_count": 40,
   "id": "c0bc0a00-e8dd-4f86-bc54-ddbffbe28951",
   "metadata": {
    "tags": []
   },
   "outputs": [
    {
     "data": {
      "text/latex": [
       "$\\displaystyle \\Gamma^{t}_{t r} = 0.5 \\frac{d}{d r} \\nu{\\left(r \\right)}$"
      ],
      "text/plain": [
       "Eq(\\Gamma^{t}_{t r}, 0.5*Derivative(nu(r), r))"
      ]
     },
     "metadata": {},
     "output_type": "display_data"
    },
    {
     "data": {
      "text/latex": [
       "$\\displaystyle \\Gamma^{r}_{t t} = 0.5 e^{- \\mu{\\left(r \\right)} + \\nu{\\left(r \\right)}} \\frac{d}{d r} \\nu{\\left(r \\right)}$"
      ],
      "text/plain": [
       "Eq(\\Gamma^{r}_{t t}, 0.5*exp(-mu(r) + nu(r))*Derivative(nu(r), r))"
      ]
     },
     "metadata": {},
     "output_type": "display_data"
    },
    {
     "data": {
      "text/latex": [
       "$\\displaystyle \\Gamma^{r}_{r r} = 0.5 \\frac{d}{d r} \\mu{\\left(r \\right)}$"
      ],
      "text/plain": [
       "Eq(\\Gamma^{r}_{r r}, 0.5*Derivative(mu(r), r))"
      ]
     },
     "metadata": {},
     "output_type": "display_data"
    },
    {
     "data": {
      "text/latex": [
       "$\\displaystyle \\Gamma^{r}_{\\theta \\theta} = - 1.0 r e^{- \\mu{\\left(r \\right)}}$"
      ],
      "text/plain": [
       "Eq(\\Gamma^{r}_{\\theta \\theta}, -1.0*r*exp(-mu(r)))"
      ]
     },
     "metadata": {},
     "output_type": "display_data"
    },
    {
     "data": {
      "text/latex": [
       "$\\displaystyle \\Gamma^{r}_{\\varphi \\varphi} = - 1.0 r e^{- \\mu{\\left(r \\right)}} \\sin^{2}{\\left(\\theta \\right)}$"
      ],
      "text/plain": [
       "Eq(\\Gamma^{r}_{\\varphi \\varphi}, -1.0*r*exp(-mu(r))*sin(theta)**2)"
      ]
     },
     "metadata": {},
     "output_type": "display_data"
    },
    {
     "data": {
      "text/latex": [
       "$\\displaystyle \\Gamma^{\\theta}_{r \\theta} = \\frac{1.0}{r}$"
      ],
      "text/plain": [
       "Eq(\\Gamma^{\\theta}_{r \\theta}, 1.0/r)"
      ]
     },
     "metadata": {},
     "output_type": "display_data"
    },
    {
     "data": {
      "text/latex": [
       "$\\displaystyle \\Gamma^{\\theta}_{\\varphi \\varphi} = - 0.5 \\sin{\\left(2 \\theta \\right)}$"
      ],
      "text/plain": [
       "Eq(\\Gamma^{\\theta}_{\\varphi \\varphi}, -0.5*sin(2*theta))"
      ]
     },
     "metadata": {},
     "output_type": "display_data"
    },
    {
     "data": {
      "text/latex": [
       "$\\displaystyle \\Gamma^{\\varphi}_{r \\varphi} = \\frac{1.0}{r}$"
      ],
      "text/plain": [
       "Eq(\\Gamma^{\\varphi}_{r \\varphi}, 1.0/r)"
      ]
     },
     "metadata": {},
     "output_type": "display_data"
    },
    {
     "data": {
      "text/latex": [
       "$\\displaystyle \\Gamma^{\\varphi}_{\\theta \\varphi} = \\frac{1.0}{\\tan{\\left(\\theta \\right)}}$"
      ],
      "text/plain": [
       "Eq(\\Gamma^{\\varphi}_{\\theta \\varphi}, 1.0/tan(theta))"
      ]
     },
     "metadata": {},
     "output_type": "display_data"
    }
   ],
   "source": [
    "Christ = MutableDenseNDimArray.zeros(4, 4, 4)\n",
    "for i in range(4):\n",
    "    for j in range(4):\n",
    "        for k in range(4):\n",
    "            Christ[i,j,k]= christcoef(g,gi,i,j,k)\n",
    "            Christ[i,j,k] = simplify(Christ[i,j,k])\n",
    "            if Christ[i,j,k] != 0:\n",
    "                displayless(Christ[i,j,k],i,j,k)"
   ]
  },
  {
   "cell_type": "markdown",
   "id": "37a24874-1a9e-4248-8d35-9237d6d496dd",
   "metadata": {},
   "source": [
    "## Riemann Tensor"
   ]
  },
  {
   "cell_type": "code",
   "execution_count": 13,
   "id": "a15ed8a1-b4fa-49a4-8bf8-68e8a576bc20",
   "metadata": {
    "tags": []
   },
   "outputs": [],
   "source": [
    "def dchris(Christ,i,j,k,l):\n",
    "    return diff(Christ[i,j,k],coor[l])"
   ]
  },
  {
   "cell_type": "code",
   "execution_count": 14,
   "id": "8fcdfab5-ea5d-40ed-a257-ddec77fbc444",
   "metadata": {
    "tags": []
   },
   "outputs": [],
   "source": [
    "def riemanncoef(Christ,i,j,k,l):\n",
    "    R = dchris(Christ,i,j,l,k) - dchris(Christ,i,j,k,l)\n",
    "    for m in range(4):\n",
    "        R += Christ[i,m,k]*Christ[m,j,l] - Christ[i,m,l]*Christ[m,j,k]\n",
    "    return R"
   ]
  },
  {
   "cell_type": "code",
   "execution_count": 47,
   "id": "55d90a60-35a3-48d3-a4ec-75a084d9d24d",
   "metadata": {
    "tags": []
   },
   "outputs": [],
   "source": [
    "def display2R(res,i,j,k,l):\n",
    "    ii = coor[i]\n",
    "    jj = coor[j]\n",
    "    kk = coor[k]\n",
    "    ll = coor[l]\n",
    "    display(Eq(Symbol(r'R^{%s}_{%s %s %s}' % (latex(ii), latex(jj), latex(kk), latex(ll))), res))\n",
    "    #print(r'R^{%s}_{%s %s %s} = {%s}\\qquad' % (latex(ii), latex(jj), latex(kk), latex(ll), latex(res)))"
   ]
  },
  {
   "cell_type": "code",
   "execution_count": 48,
   "id": "7230fbff-eac2-4f64-badc-c5c9cbfa8162",
   "metadata": {
    "tags": []
   },
   "outputs": [
    {
     "data": {
      "text/latex": [
       "$\\displaystyle R^{t}_{r t r} = 0.25 \\frac{d}{d r} \\mu{\\left(r \\right)} \\frac{d}{d r} \\nu{\\left(r \\right)} - 0.25 \\left(\\frac{d}{d r} \\nu{\\left(r \\right)}\\right)^{2} - 0.5 \\frac{d^{2}}{d r^{2}} \\nu{\\left(r \\right)}$"
      ],
      "text/plain": [
       "Eq(R^{t}_{r t r}, 0.25*Derivative(mu(r), r)*Derivative(nu(r), r) - 0.25*Derivative(nu(r), r)**2 - 0.5*Derivative(nu(r), (r, 2)))"
      ]
     },
     "metadata": {},
     "output_type": "display_data"
    },
    {
     "data": {
      "text/latex": [
       "$\\displaystyle R^{t}_{r r t} = - 0.25 \\frac{d}{d r} \\mu{\\left(r \\right)} \\frac{d}{d r} \\nu{\\left(r \\right)} + 0.25 \\left(\\frac{d}{d r} \\nu{\\left(r \\right)}\\right)^{2} + 0.5 \\frac{d^{2}}{d r^{2}} \\nu{\\left(r \\right)}$"
      ],
      "text/plain": [
       "Eq(R^{t}_{r r t}, -0.25*Derivative(mu(r), r)*Derivative(nu(r), r) + 0.25*Derivative(nu(r), r)**2 + 0.5*Derivative(nu(r), (r, 2)))"
      ]
     },
     "metadata": {},
     "output_type": "display_data"
    },
    {
     "data": {
      "text/latex": [
       "$\\displaystyle R^{t}_{\\theta t \\theta} = - 0.5 r e^{- \\mu{\\left(r \\right)}} \\frac{d}{d r} \\nu{\\left(r \\right)}$"
      ],
      "text/plain": [
       "Eq(R^{t}_{\\theta t \\theta}, -0.5*r*exp(-mu(r))*Derivative(nu(r), r))"
      ]
     },
     "metadata": {},
     "output_type": "display_data"
    },
    {
     "data": {
      "text/latex": [
       "$\\displaystyle R^{t}_{\\theta \\theta t} = 0.5 r e^{- \\mu{\\left(r \\right)}} \\frac{d}{d r} \\nu{\\left(r \\right)}$"
      ],
      "text/plain": [
       "Eq(R^{t}_{\\theta \\theta t}, 0.5*r*exp(-mu(r))*Derivative(nu(r), r))"
      ]
     },
     "metadata": {},
     "output_type": "display_data"
    },
    {
     "data": {
      "text/latex": [
       "$\\displaystyle R^{t}_{\\varphi t \\varphi} = - 0.5 r e^{- \\mu{\\left(r \\right)}} \\sin^{2}{\\left(\\theta \\right)} \\frac{d}{d r} \\nu{\\left(r \\right)}$"
      ],
      "text/plain": [
       "Eq(R^{t}_{\\varphi t \\varphi}, -0.5*r*exp(-mu(r))*sin(theta)**2*Derivative(nu(r), r))"
      ]
     },
     "metadata": {},
     "output_type": "display_data"
    },
    {
     "data": {
      "text/latex": [
       "$\\displaystyle R^{t}_{\\varphi \\varphi t} = 0.5 r e^{- \\mu{\\left(r \\right)}} \\sin^{2}{\\left(\\theta \\right)} \\frac{d}{d r} \\nu{\\left(r \\right)}$"
      ],
      "text/plain": [
       "Eq(R^{t}_{\\varphi \\varphi t}, 0.5*r*exp(-mu(r))*sin(theta)**2*Derivative(nu(r), r))"
      ]
     },
     "metadata": {},
     "output_type": "display_data"
    },
    {
     "data": {
      "text/latex": [
       "$\\displaystyle R^{r}_{t t r} = \\left(0.25 \\frac{d}{d r} \\mu{\\left(r \\right)} \\frac{d}{d r} \\nu{\\left(r \\right)} - 0.25 \\left(\\frac{d}{d r} \\nu{\\left(r \\right)}\\right)^{2} - 0.5 \\frac{d^{2}}{d r^{2}} \\nu{\\left(r \\right)}\\right) e^{- \\mu{\\left(r \\right)} + \\nu{\\left(r \\right)}}$"
      ],
      "text/plain": [
       "Eq(R^{r}_{t t r}, (0.25*Derivative(mu(r), r)*Derivative(nu(r), r) - 0.25*Derivative(nu(r), r)**2 - 0.5*Derivative(nu(r), (r, 2)))*exp(-mu(r) + nu(r)))"
      ]
     },
     "metadata": {},
     "output_type": "display_data"
    },
    {
     "data": {
      "text/latex": [
       "$\\displaystyle R^{r}_{t r t} = \\left(- 0.25 \\frac{d}{d r} \\mu{\\left(r \\right)} \\frac{d}{d r} \\nu{\\left(r \\right)} + 0.25 \\left(\\frac{d}{d r} \\nu{\\left(r \\right)}\\right)^{2} + 0.5 \\frac{d^{2}}{d r^{2}} \\nu{\\left(r \\right)}\\right) e^{- \\mu{\\left(r \\right)} + \\nu{\\left(r \\right)}}$"
      ],
      "text/plain": [
       "Eq(R^{r}_{t r t}, (-0.25*Derivative(mu(r), r)*Derivative(nu(r), r) + 0.25*Derivative(nu(r), r)**2 + 0.5*Derivative(nu(r), (r, 2)))*exp(-mu(r) + nu(r)))"
      ]
     },
     "metadata": {},
     "output_type": "display_data"
    },
    {
     "data": {
      "text/latex": [
       "$\\displaystyle R^{r}_{\\theta r \\theta} = 0.5 r e^{- \\mu{\\left(r \\right)}} \\frac{d}{d r} \\mu{\\left(r \\right)}$"
      ],
      "text/plain": [
       "Eq(R^{r}_{\\theta r \\theta}, 0.5*r*exp(-mu(r))*Derivative(mu(r), r))"
      ]
     },
     "metadata": {},
     "output_type": "display_data"
    },
    {
     "data": {
      "text/latex": [
       "$\\displaystyle R^{r}_{\\theta \\theta r} = - 0.5 r e^{- \\mu{\\left(r \\right)}} \\frac{d}{d r} \\mu{\\left(r \\right)}$"
      ],
      "text/plain": [
       "Eq(R^{r}_{\\theta \\theta r}, -0.5*r*exp(-mu(r))*Derivative(mu(r), r))"
      ]
     },
     "metadata": {},
     "output_type": "display_data"
    },
    {
     "data": {
      "text/latex": [
       "$\\displaystyle R^{r}_{\\varphi r \\varphi} = 0.5 r e^{- \\mu{\\left(r \\right)}} \\sin^{2}{\\left(\\theta \\right)} \\frac{d}{d r} \\mu{\\left(r \\right)}$"
      ],
      "text/plain": [
       "Eq(R^{r}_{\\varphi r \\varphi}, 0.5*r*exp(-mu(r))*sin(theta)**2*Derivative(mu(r), r))"
      ]
     },
     "metadata": {},
     "output_type": "display_data"
    },
    {
     "data": {
      "text/latex": [
       "$\\displaystyle R^{r}_{\\varphi \\varphi r} = - 0.5 r e^{- \\mu{\\left(r \\right)}} \\sin^{2}{\\left(\\theta \\right)} \\frac{d}{d r} \\mu{\\left(r \\right)}$"
      ],
      "text/plain": [
       "Eq(R^{r}_{\\varphi \\varphi r}, -0.5*r*exp(-mu(r))*sin(theta)**2*Derivative(mu(r), r))"
      ]
     },
     "metadata": {},
     "output_type": "display_data"
    },
    {
     "data": {
      "text/latex": [
       "$\\displaystyle R^{\\theta}_{t t \\theta} = - \\frac{0.5 e^{- \\mu{\\left(r \\right)} + \\nu{\\left(r \\right)}} \\frac{d}{d r} \\nu{\\left(r \\right)}}{r}$"
      ],
      "text/plain": [
       "Eq(R^{\\theta}_{t t \\theta}, -0.5*exp(-mu(r) + nu(r))*Derivative(nu(r), r)/r)"
      ]
     },
     "metadata": {},
     "output_type": "display_data"
    },
    {
     "data": {
      "text/latex": [
       "$\\displaystyle R^{\\theta}_{t \\theta t} = \\frac{0.5 e^{- \\mu{\\left(r \\right)} + \\nu{\\left(r \\right)}} \\frac{d}{d r} \\nu{\\left(r \\right)}}{r}$"
      ],
      "text/plain": [
       "Eq(R^{\\theta}_{t \\theta t}, 0.5*exp(-mu(r) + nu(r))*Derivative(nu(r), r)/r)"
      ]
     },
     "metadata": {},
     "output_type": "display_data"
    },
    {
     "data": {
      "text/latex": [
       "$\\displaystyle R^{\\theta}_{r r \\theta} = - \\frac{0.5 \\frac{d}{d r} \\mu{\\left(r \\right)}}{r}$"
      ],
      "text/plain": [
       "Eq(R^{\\theta}_{r r \\theta}, -0.5*Derivative(mu(r), r)/r)"
      ]
     },
     "metadata": {},
     "output_type": "display_data"
    },
    {
     "data": {
      "text/latex": [
       "$\\displaystyle R^{\\theta}_{r \\theta r} = \\frac{0.5 \\frac{d}{d r} \\mu{\\left(r \\right)}}{r}$"
      ],
      "text/plain": [
       "Eq(R^{\\theta}_{r \\theta r}, 0.5*Derivative(mu(r), r)/r)"
      ]
     },
     "metadata": {},
     "output_type": "display_data"
    },
    {
     "data": {
      "text/latex": [
       "$\\displaystyle R^{\\theta}_{\\varphi \\theta \\varphi} = 1.0 \\left(e^{\\mu{\\left(r \\right)}} - 1\\right) e^{- \\mu{\\left(r \\right)}} \\sin^{2}{\\left(\\theta \\right)}$"
      ],
      "text/plain": [
       "Eq(R^{\\theta}_{\\varphi \\theta \\varphi}, 1.0*(exp(mu(r)) - 1)*exp(-mu(r))*sin(theta)**2)"
      ]
     },
     "metadata": {},
     "output_type": "display_data"
    },
    {
     "data": {
      "text/latex": [
       "$\\displaystyle R^{\\theta}_{\\varphi \\varphi \\theta} = 1.0 \\cdot \\left(1 - e^{\\mu{\\left(r \\right)}}\\right) e^{- \\mu{\\left(r \\right)}} \\sin^{2}{\\left(\\theta \\right)}$"
      ],
      "text/plain": [
       "Eq(R^{\\theta}_{\\varphi \\varphi \\theta}, 1.0*(1 - exp(mu(r)))*exp(-mu(r))*sin(theta)**2)"
      ]
     },
     "metadata": {},
     "output_type": "display_data"
    },
    {
     "data": {
      "text/latex": [
       "$\\displaystyle R^{\\varphi}_{t t \\varphi} = - \\frac{0.5 e^{- \\mu{\\left(r \\right)} + \\nu{\\left(r \\right)}} \\frac{d}{d r} \\nu{\\left(r \\right)}}{r}$"
      ],
      "text/plain": [
       "Eq(R^{\\varphi}_{t t \\varphi}, -0.5*exp(-mu(r) + nu(r))*Derivative(nu(r), r)/r)"
      ]
     },
     "metadata": {},
     "output_type": "display_data"
    },
    {
     "data": {
      "text/latex": [
       "$\\displaystyle R^{\\varphi}_{t \\varphi t} = \\frac{0.5 e^{- \\mu{\\left(r \\right)} + \\nu{\\left(r \\right)}} \\frac{d}{d r} \\nu{\\left(r \\right)}}{r}$"
      ],
      "text/plain": [
       "Eq(R^{\\varphi}_{t \\varphi t}, 0.5*exp(-mu(r) + nu(r))*Derivative(nu(r), r)/r)"
      ]
     },
     "metadata": {},
     "output_type": "display_data"
    },
    {
     "data": {
      "text/latex": [
       "$\\displaystyle R^{\\varphi}_{r r \\varphi} = - \\frac{0.5 \\frac{d}{d r} \\mu{\\left(r \\right)}}{r}$"
      ],
      "text/plain": [
       "Eq(R^{\\varphi}_{r r \\varphi}, -0.5*Derivative(mu(r), r)/r)"
      ]
     },
     "metadata": {},
     "output_type": "display_data"
    },
    {
     "data": {
      "text/latex": [
       "$\\displaystyle R^{\\varphi}_{r \\varphi r} = \\frac{0.5 \\frac{d}{d r} \\mu{\\left(r \\right)}}{r}$"
      ],
      "text/plain": [
       "Eq(R^{\\varphi}_{r \\varphi r}, 0.5*Derivative(mu(r), r)/r)"
      ]
     },
     "metadata": {},
     "output_type": "display_data"
    },
    {
     "data": {
      "text/latex": [
       "$\\displaystyle R^{\\varphi}_{\\theta \\theta \\varphi} = -1.0 + 1.0 e^{- \\mu{\\left(r \\right)}}$"
      ],
      "text/plain": [
       "Eq(R^{\\varphi}_{\\theta \\theta \\varphi}, -1.0 + 1.0*exp(-mu(r)))"
      ]
     },
     "metadata": {},
     "output_type": "display_data"
    },
    {
     "data": {
      "text/latex": [
       "$\\displaystyle R^{\\varphi}_{\\theta \\varphi \\theta} = 1.0 - 1.0 e^{- \\mu{\\left(r \\right)}}$"
      ],
      "text/plain": [
       "Eq(R^{\\varphi}_{\\theta \\varphi \\theta}, 1.0 - 1.0*exp(-mu(r)))"
      ]
     },
     "metadata": {},
     "output_type": "display_data"
    }
   ],
   "source": [
    "Riemann = MutableDenseNDimArray.zeros(4,4,4,4)\n",
    "for i in range(4):\n",
    "    for j in range(4):\n",
    "        for k in range(4):\n",
    "            for l in range(4):\n",
    "                Riemann[i,j,k,l]=riemanncoef(Christ,i,j,k,l)\n",
    "                Riemann[i,j,k,l] = simplify(Riemann[i,j,k,l])\n",
    "                if Riemann[i,j,k,l] != 0:\n",
    "                    display2R(Riemann[i,j,k,l],i,j,k,l)"
   ]
  },
  {
   "cell_type": "markdown",
   "id": "fdc52457-e59f-4509-9dff-1b17ce22c6d5",
   "metadata": {},
   "source": [
    "## Ricci Tensor"
   ]
  },
  {
   "cell_type": "code",
   "execution_count": 18,
   "id": "942be24b-e8f5-4775-891e-be1d9b7395cf",
   "metadata": {
    "tags": []
   },
   "outputs": [],
   "source": [
    "def riccicoef(Riemann,i,k):\n",
    "    Rc = 0\n",
    "    for j in range(4):\n",
    "        Rc += Riemann[j,i,j,k]\n",
    "    return Rc"
   ]
  },
  {
   "cell_type": "code",
   "execution_count": 49,
   "id": "c116780d-36ea-42b3-aa86-97a981df35bb",
   "metadata": {
    "tags": []
   },
   "outputs": [],
   "source": [
    "def display2Rc(res,i,k):\n",
    "    ii = coor[i]\n",
    "    kk = coor[k]\n",
    "    display(Eq(Symbol(r'R_{%s %s}' % (latex(ii),latex(kk))), res))\n",
    "    #print(r'R_{%s %s} = {%s}\\qquad' % (latex(ii), latex(kk), latex(res)))"
   ]
  },
  {
   "cell_type": "code",
   "execution_count": 20,
   "id": "03631248-0f0f-499f-bc10-6981cea9cf6e",
   "metadata": {
    "tags": []
   },
   "outputs": [],
   "source": [
    "def display2Rcf(res):\n",
    "    display(Eq(Symbol(r'R'), res))"
   ]
  },
  {
   "cell_type": "code",
   "execution_count": 50,
   "id": "aa3a5919-cafa-4b33-a865-3338cefd9242",
   "metadata": {
    "tags": []
   },
   "outputs": [
    {
     "data": {
      "text/latex": [
       "$\\displaystyle R_{t t} = \\left(- 0.25 \\frac{d}{d r} \\mu{\\left(r \\right)} \\frac{d}{d r} \\nu{\\left(r \\right)} + 0.25 \\left(\\frac{d}{d r} \\nu{\\left(r \\right)}\\right)^{2} + 0.5 \\frac{d^{2}}{d r^{2}} \\nu{\\left(r \\right)}\\right) e^{- \\mu{\\left(r \\right)} + \\nu{\\left(r \\right)}} + \\frac{1.0 e^{- \\mu{\\left(r \\right)} + \\nu{\\left(r \\right)}} \\frac{d}{d r} \\nu{\\left(r \\right)}}{r}$"
      ],
      "text/plain": [
       "Eq(R_{t t}, (-0.25*Derivative(mu(r), r)*Derivative(nu(r), r) + 0.25*Derivative(nu(r), r)**2 + 0.5*Derivative(nu(r), (r, 2)))*exp(-mu(r) + nu(r)) + 1.0*exp(-mu(r) + nu(r))*Derivative(nu(r), r)/r)"
      ]
     },
     "metadata": {},
     "output_type": "display_data"
    },
    {
     "data": {
      "text/latex": [
       "$\\displaystyle R_{r r} = 0.25 \\frac{d}{d r} \\mu{\\left(r \\right)} \\frac{d}{d r} \\nu{\\left(r \\right)} - 0.25 \\left(\\frac{d}{d r} \\nu{\\left(r \\right)}\\right)^{2} - 0.5 \\frac{d^{2}}{d r^{2}} \\nu{\\left(r \\right)} + \\frac{1.0 \\frac{d}{d r} \\mu{\\left(r \\right)}}{r}$"
      ],
      "text/plain": [
       "Eq(R_{r r}, 0.25*Derivative(mu(r), r)*Derivative(nu(r), r) - 0.25*Derivative(nu(r), r)**2 - 0.5*Derivative(nu(r), (r, 2)) + 1.0*Derivative(mu(r), r)/r)"
      ]
     },
     "metadata": {},
     "output_type": "display_data"
    },
    {
     "data": {
      "text/latex": [
       "$\\displaystyle R_{\\theta \\theta} = 0.5 r e^{- \\mu{\\left(r \\right)}} \\frac{d}{d r} \\mu{\\left(r \\right)} - 0.5 r e^{- \\mu{\\left(r \\right)}} \\frac{d}{d r} \\nu{\\left(r \\right)} + 1.0 - 1.0 e^{- \\mu{\\left(r \\right)}}$"
      ],
      "text/plain": [
       "Eq(R_{\\theta \\theta}, 0.5*r*exp(-mu(r))*Derivative(mu(r), r) - 0.5*r*exp(-mu(r))*Derivative(nu(r), r) + 1.0 - 1.0*exp(-mu(r)))"
      ]
     },
     "metadata": {},
     "output_type": "display_data"
    },
    {
     "data": {
      "text/latex": [
       "$\\displaystyle R_{\\varphi \\varphi} = 0.5 r e^{- \\mu{\\left(r \\right)}} \\sin^{2}{\\left(\\theta \\right)} \\frac{d}{d r} \\mu{\\left(r \\right)} - 0.5 r e^{- \\mu{\\left(r \\right)}} \\sin^{2}{\\left(\\theta \\right)} \\frac{d}{d r} \\nu{\\left(r \\right)} + 1.0 \\left(e^{\\mu{\\left(r \\right)}} - 1\\right) e^{- \\mu{\\left(r \\right)}} \\sin^{2}{\\left(\\theta \\right)}$"
      ],
      "text/plain": [
       "Eq(R_{\\varphi \\varphi}, 0.5*r*exp(-mu(r))*sin(theta)**2*Derivative(mu(r), r) - 0.5*r*exp(-mu(r))*sin(theta)**2*Derivative(nu(r), r) + 1.0*(exp(mu(r)) - 1)*exp(-mu(r))*sin(theta)**2)"
      ]
     },
     "metadata": {},
     "output_type": "display_data"
    }
   ],
   "source": [
    "Ricci = diag(0,0,0,0)\n",
    "for i in range(4):\n",
    "    for k in range(4):\n",
    "        Ricci[i,k] = riccicoef(Riemann,i,k)\n",
    "        #Ricci[i,k] = simplify(Ricci[i,k])\n",
    "        if Ricci[i,k] != 0:\n",
    "            display2Rc(Ricci[i,k],i,k)\n",
    "#display(Ricci)"
   ]
  },
  {
   "cell_type": "code",
   "execution_count": 25,
   "id": "749a8d17-c59f-43be-8b82-3160527219bb",
   "metadata": {
    "tags": []
   },
   "outputs": [
    {
     "data": {
      "text/latex": [
       "$\\displaystyle R = r^{2} \\cdot \\left(0.5 r e^{- \\mu{\\left(r \\right)}} \\sin^{2}{\\left(\\theta \\right)} \\frac{d}{d r} \\mu{\\left(r \\right)} - 0.5 r e^{- \\mu{\\left(r \\right)}} \\sin^{2}{\\left(\\theta \\right)} \\frac{d}{d r} \\nu{\\left(r \\right)} + 1.0 \\left(e^{\\mu{\\left(r \\right)}} - 1\\right) e^{- \\mu{\\left(r \\right)}} \\sin^{2}{\\left(\\theta \\right)}\\right) \\sin^{2}{\\left(\\theta \\right)} + r^{2} \\cdot \\left(0.5 r e^{- \\mu{\\left(r \\right)}} \\frac{d}{d r} \\mu{\\left(r \\right)} - 0.5 r e^{- \\mu{\\left(r \\right)}} \\frac{d}{d r} \\nu{\\left(r \\right)} + 1.0 - 1.0 e^{- \\mu{\\left(r \\right)}}\\right) - \\left(\\left(- 0.25 \\frac{d}{d r} \\mu{\\left(r \\right)} \\frac{d}{d r} \\nu{\\left(r \\right)} + 0.25 \\left(\\frac{d}{d r} \\nu{\\left(r \\right)}\\right)^{2} + 0.5 \\frac{d^{2}}{d r^{2}} \\nu{\\left(r \\right)}\\right) e^{- \\mu{\\left(r \\right)} + \\nu{\\left(r \\right)}} + \\frac{1.0 e^{- \\mu{\\left(r \\right)} + \\nu{\\left(r \\right)}} \\frac{d}{d r} \\nu{\\left(r \\right)}}{r}\\right) e^{\\nu{\\left(r \\right)}} + \\left(0.25 \\frac{d}{d r} \\mu{\\left(r \\right)} \\frac{d}{d r} \\nu{\\left(r \\right)} - 0.25 \\left(\\frac{d}{d r} \\nu{\\left(r \\right)}\\right)^{2} - 0.5 \\frac{d^{2}}{d r^{2}} \\nu{\\left(r \\right)} + \\frac{1.0 \\frac{d}{d r} \\mu{\\left(r \\right)}}{r}\\right) e^{\\mu{\\left(r \\right)}}$"
      ],
      "text/plain": [
       "Eq(R, r**2*(0.5*r*exp(-mu(r))*sin(theta)**2*Derivative(mu(r), r) - 0.5*r*exp(-mu(r))*sin(theta)**2*Derivative(nu(r), r) + 1.0*(exp(mu(r)) - 1)*exp(-mu(r))*sin(theta)**2)*sin(theta)**2 + r**2*(0.5*r*exp(-mu(r))*Derivative(mu(r), r) - 0.5*r*exp(-mu(r))*Derivative(nu(r), r) + 1.0 - 1.0*exp(-mu(r))) - ((-0.25*Derivative(mu(r), r)*Derivative(nu(r), r) + 0.25*Derivative(nu(r), r)**2 + 0.5*Derivative(nu(r), (r, 2)))*exp(-mu(r) + nu(r)) + 1.0*exp(-mu(r) + nu(r))*Derivative(nu(r), r)/r)*exp(nu(r)) + (0.25*Derivative(mu(r), r)*Derivative(nu(r), r) - 0.25*Derivative(nu(r), r)**2 - 0.5*Derivative(nu(r), (r, 2)) + 1.0*Derivative(mu(r), r)/r)*exp(mu(r)))"
      ]
     },
     "metadata": {},
     "output_type": "display_data"
    }
   ],
   "source": [
    "Res = 0\n",
    "for i in range(4):\n",
    "    for j in range(4):\n",
    "        Res += Ricci[i,j]*g[i,j]\n",
    "display2Rcf(Res)"
   ]
  },
  {
   "cell_type": "markdown",
   "id": "1ca44835-a270-4e95-8c8a-2d1c00fcf6f1",
   "metadata": {},
   "source": [
    "## Maxwell & Einstein-Maxwell Tensor"
   ]
  },
  {
   "cell_type": "code",
   "execution_count": 61,
   "id": "4a53a778-4425-4a4e-b3c4-0852230b6632",
   "metadata": {
    "tags": []
   },
   "outputs": [
    {
     "data": {
      "text/latex": [
       "$\\displaystyle \\left[\\begin{matrix}0 & - E{\\left(r \\right)} & 0 & 0\\\\E{\\left(r \\right)} & 0 & 0 & 0\\\\0 & 0 & 0 & 0\\\\0 & 0 & 0 & 0\\end{matrix}\\right]$"
      ],
      "text/plain": [
       "Matrix([\n",
       "[   0, -E(r), 0, 0],\n",
       "[E(r),     0, 0, 0],\n",
       "[   0,     0, 0, 0],\n",
       "[   0,     0, 0, 0]])"
      ]
     },
     "execution_count": 61,
     "metadata": {},
     "output_type": "execute_result"
    }
   ],
   "source": [
    "F = diag(0,0,0,0)\n",
    "F[0,1] = -E\n",
    "F[1,0] = -F[0,1]\n",
    "F"
   ]
  },
  {
   "cell_type": "markdown",
   "id": "e1fc206f-719b-43ad-8e7a-899b038654f9",
   "metadata": {},
   "source": [
    "Einstein-Maxwell Tensor: $T_{\\mu\\nu}=\\frac{1}{4\\pi}[\\frac{1}{4}g_{\\mu\\nu}F_{\\alpha\\beta}F^{\\alpha\\beta}-g_{\\nu\\beta}F_{\\mu\\alpha}F^{\\beta\\alpha}]$"
   ]
  },
  {
   "cell_type": "code",
   "execution_count": 66,
   "id": "1d468b5d-1824-4986-a9ba-4a4cd2ab862e",
   "metadata": {
    "tags": []
   },
   "outputs": [],
   "source": [
    "def EMcoef(F,g,i,j):\n",
    "    EMc = 0\n",
    "    for k in range(4):\n",
    "        for l in range(4):\n",
    "            EMc += 1/(4*pi)*(0.25*g[i,j]*F[k,l]*F[k,l]-g[j,l]*F[i,k]*F[l,k])\n",
    "    return EMc"
   ]
  },
  {
   "cell_type": "code",
   "execution_count": 67,
   "id": "6b934c5c-9358-4a8f-8976-6760b7396994",
   "metadata": {
    "tags": []
   },
   "outputs": [],
   "source": [
    "def displayEM(res,i,j):\n",
    "    ii = coor[i]\n",
    "    jj = coor[j]\n",
    "    display(Eq(Symbol(r'T_{%s %s}' % (latex(ii),latex(jj))), res))\n",
    "    #print(r'T_{%s %s} = {%s}\\qquad' % (latex(ii), latex(jj), latex(res)))"
   ]
  },
  {
   "cell_type": "code",
   "execution_count": 70,
   "id": "83170abb-d056-4f20-90e4-2a5d3ebef613",
   "metadata": {
    "tags": []
   },
   "outputs": [
    {
     "data": {
      "text/latex": [
       "$\\displaystyle T_{t t} = \\frac{0.125 E^{2}{\\left(r \\right)} e^{\\nu{\\left(r \\right)}}}{\\pi}$"
      ],
      "text/plain": [
       "Eq(T_{t t}, 0.125*E(r)**2*exp(nu(r))/pi)"
      ]
     },
     "metadata": {},
     "output_type": "display_data"
    },
    {
     "data": {
      "text/latex": [
       "$\\displaystyle T_{r r} = - \\frac{0.125 E^{2}{\\left(r \\right)} e^{\\mu{\\left(r \\right)}}}{\\pi}$"
      ],
      "text/plain": [
       "Eq(T_{r r}, -0.125*E(r)**2*exp(mu(r))/pi)"
      ]
     },
     "metadata": {},
     "output_type": "display_data"
    },
    {
     "data": {
      "text/latex": [
       "$\\displaystyle T_{\\theta \\theta} = \\frac{0.125 r^{2} E^{2}{\\left(r \\right)}}{\\pi}$"
      ],
      "text/plain": [
       "Eq(T_{\\theta \\theta}, 0.125*r**2*E(r)**2/pi)"
      ]
     },
     "metadata": {},
     "output_type": "display_data"
    },
    {
     "data": {
      "text/latex": [
       "$\\displaystyle T_{\\varphi \\varphi} = \\frac{0.125 r^{2} E^{2}{\\left(r \\right)} \\sin^{2}{\\left(\\theta \\right)}}{\\pi}$"
      ],
      "text/plain": [
       "Eq(T_{\\varphi \\varphi}, 0.125*r**2*E(r)**2*sin(theta)**2/pi)"
      ]
     },
     "metadata": {},
     "output_type": "display_data"
    }
   ],
   "source": [
    "EM = diag(0,0,0,0)\n",
    "for i in range(4):\n",
    "    for j in range(4):\n",
    "        EM[i,j] = EMcoef(F,g,i,j)\n",
    "        EM[i,j] = simplify(EM[i,j])\n",
    "        if EM[i,j] != 0:\n",
    "            displayEM(EM[i,j],i,j)"
   ]
  }
 ],
 "metadata": {
  "kernelspec": {
   "display_name": "Python 3 (ipykernel)",
   "language": "python",
   "name": "python3"
  },
  "language_info": {
   "codemirror_mode": {
    "name": "ipython",
    "version": 3
   },
   "file_extension": ".py",
   "mimetype": "text/x-python",
   "name": "python",
   "nbconvert_exporter": "python",
   "pygments_lexer": "ipython3",
   "version": "3.11.5"
  }
 },
 "nbformat": 4,
 "nbformat_minor": 5
}
