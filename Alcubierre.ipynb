{
 "cells": [
  {
   "cell_type": "markdown",
   "id": "432a4251-6b24-44b8-b59c-48dbf3472d26",
   "metadata": {},
   "source": [
    "# Alcubierre 2\n",
    "## Jesús Borrás"
   ]
  },
  {
   "cell_type": "code",
   "execution_count": 1,
   "id": "c5261446-5cab-4f0a-a7f6-0858814f827d",
   "metadata": {
    "tags": []
   },
   "outputs": [],
   "source": [
    "from sympy import *"
   ]
  },
  {
   "cell_type": "markdown",
   "id": "88958162-a4ce-4df4-8c35-ece1a50dba20",
   "metadata": {},
   "source": [
    "**Line element 3+1**:      $ds^2=-(N^2-N_i N^i)\\,dt^2+2N_i\\,dx^i\\,dt+\\gamma_{ij}\\,dx^{i}\\,dx^{j}$"
   ]
  },
  {
   "cell_type": "markdown",
   "id": "1d22ae37-f92a-4fb4-980d-5c51425ad659",
   "metadata": {},
   "source": [
    "**Alcubierre metric**: $ds^2=-[1-(v(t)f(x,y,z-z_0(t))\\ )^2]dt^2 - 2\\ v(t)f(x,y,z-z_0(t))dtdz + \\delta_{ij}dx^idx^j$"
   ]
  },
  {
   "cell_type": "code",
   "execution_count": 2,
   "id": "0b74a9f4-97d7-42fb-be3c-cb77a77fa03c",
   "metadata": {
    "tags": []
   },
   "outputs": [],
   "source": [
    "t,x,y,z = symbols('t x y z')\n",
    "r,v,f, z0 = symbols('r v f z_0', cls=Function)\n",
    "z0 = z0(t)\n",
    "r = r(x,y,(z-z0))\n",
    "v = v(t)\n",
    "f = f(x,y,(z-z0))\n",
    "coore = [x,y,z]\n",
    "g = Matrix([[-1+(v*f)**2,0,0,-v*f],[0,1,0,0],[0,0,1,0],[-v*f,0,0,1]])\n",
    "gi = g.inv()\n",
    "Ni = [0,0,v*f]"
   ]
  },
  {
   "cell_type": "markdown",
   "id": "5c7ffa1e-993f-4142-9f4e-ac7e22b83388",
   "metadata": {},
   "source": [
    "## Extrinsic curvature"
   ]
  },
  {
   "cell_type": "markdown",
   "id": "f64db782-d9a3-4ea9-b76f-de91f35523f2",
   "metadata": {},
   "source": [
    "$K^{ij}=\\frac{1}{2}(\\frac{\\partial N^j}{\\partial x^i}+\\frac{\\partial N^i}{\\partial x^j})$"
   ]
  },
  {
   "cell_type": "code",
   "execution_count": 3,
   "id": "87427ae0-9b05-4aa6-82f8-fea8fde43dae",
   "metadata": {
    "tags": []
   },
   "outputs": [],
   "source": [
    "def displayless(res,i,j):\n",
    "    ii = coore[i]\n",
    "    jj = coore[j]\n",
    "    if i == 0:\n",
    "        display2(res,i,j)\n",
    "    if i == 1:\n",
    "        if j == 0: None\n",
    "        else: \n",
    "            display2(res,i,j)\n",
    "    if i == 2:\n",
    "        if j == 0 or j == 1: None\n",
    "        else: \n",
    "            display2(res,i,j)"
   ]
  },
  {
   "cell_type": "code",
   "execution_count": 6,
   "id": "f287e6cc-9a50-4783-91ce-a7a800906879",
   "metadata": {
    "tags": []
   },
   "outputs": [],
   "source": [
    "def display2(res,i,j):\n",
    "    ii = coore[i]\n",
    "    jj = coore[j]\n",
    "    display(Eq(Symbol(r'K_{%s%s}' % (latex(ii), latex(jj))), res))\n",
    "    #print(r'K_{%s%s}={%s}\\qquad' % (latex(ii), latex(jj), latex(res)))"
   ]
  },
  {
   "cell_type": "code",
   "execution_count": 7,
   "id": "89ba9deb-8514-4ce2-a36b-5167c9477321",
   "metadata": {
    "tags": []
   },
   "outputs": [
    {
     "data": {
      "text/latex": [
       "$\\displaystyle K_{xx} = 0$"
      ],
      "text/plain": [
       "Eq(K_{xx}, 0)"
      ]
     },
     "metadata": {},
     "output_type": "display_data"
    },
    {
     "data": {
      "text/latex": [
       "$\\displaystyle K_{xy} = 0$"
      ],
      "text/plain": [
       "Eq(K_{xy}, 0)"
      ]
     },
     "metadata": {},
     "output_type": "display_data"
    },
    {
     "data": {
      "text/latex": [
       "$\\displaystyle K_{xz} = 0.5 v{\\left(t \\right)} \\frac{\\partial}{\\partial x} f{\\left(x,y,z - z_{0}{\\left(t \\right)} \\right)}$"
      ],
      "text/plain": [
       "Eq(K_{xz}, 0.5*v(t)*Derivative(f(x, y, z - z_0(t)), x))"
      ]
     },
     "metadata": {},
     "output_type": "display_data"
    },
    {
     "data": {
      "text/latex": [
       "$\\displaystyle K_{yy} = 0$"
      ],
      "text/plain": [
       "Eq(K_{yy}, 0)"
      ]
     },
     "metadata": {},
     "output_type": "display_data"
    },
    {
     "data": {
      "text/latex": [
       "$\\displaystyle K_{yz} = 0.5 v{\\left(t \\right)} \\frac{\\partial}{\\partial y} f{\\left(x,y,z - z_{0}{\\left(t \\right)} \\right)}$"
      ],
      "text/plain": [
       "Eq(K_{yz}, 0.5*v(t)*Derivative(f(x, y, z - z_0(t)), y))"
      ]
     },
     "metadata": {},
     "output_type": "display_data"
    },
    {
     "data": {
      "text/latex": [
       "$\\displaystyle K_{zz} = 1.0 v{\\left(t \\right)} \\left. \\frac{\\partial}{\\partial \\xi_{3}} f{\\left(x,y,\\xi_{3} \\right)} \\right|_{\\substack{ \\xi_{3}=z - z_{0}{\\left(t \\right)} }}$"
      ],
      "text/plain": [
       "Eq(K_{zz}, 1.0*v(t)*Subs(Derivative(f(x, y, _xi_3), _xi_3), _xi_3, z - z_0(t)))"
      ]
     },
     "metadata": {},
     "output_type": "display_data"
    }
   ],
   "source": [
    "K = diag(0,0,0)\n",
    "for i in range(3):\n",
    "    for j in range(3):\n",
    "        K[i,j]=0.5*(diff(Ni[j],coore[i])+diff(Ni[i],coore[j]))\n",
    "        displayless(K[i,j],i,j)"
   ]
  }
 ],
 "metadata": {
  "kernelspec": {
   "display_name": "Python 3 (ipykernel)",
   "language": "python",
   "name": "python3"
  },
  "language_info": {
   "codemirror_mode": {
    "name": "ipython",
    "version": 3
   },
   "file_extension": ".py",
   "mimetype": "text/x-python",
   "name": "python",
   "nbconvert_exporter": "python",
   "pygments_lexer": "ipython3",
   "version": "3.11.5"
  }
 },
 "nbformat": 4,
 "nbformat_minor": 5
}
